{
 "cells": [
  {
   "cell_type": "markdown",
   "id": "1f0b285c-da56-47a4-b0c2-a8602fd9ab13",
   "metadata": {
    "editable": true,
    "slideshow": {
     "slide_type": ""
    },
    "tags": []
   },
   "source": [
    "# Sample Script to update testplan using a template\n",
    "\n",
    "## Description \n",
    "- This script automates the process of applying a predefined test plan template over one or more selected test plans.\n",
    "- It takes in a list of the selected test plan's IDs, and the user entered test plan template ID as input.\n",
    "- It can update at most 1000 test plans at a time. \n",
    "  \n",
    "Note: To customize the automate algorithm, modify the following sections:   \n",
    "- [APIs and Algorithms](#APIs-and-algorithms)\n",
    "- [Actions and Output](#Actions-and-output) "
   ]
  },
  {
   "cell_type": "markdown",
   "id": "693b61ec-ba06-466f-b3e4-9775b8c34c50",
   "metadata": {
    "editable": true,
    "slideshow": {
     "slide_type": ""
    },
    "tags": []
   },
   "source": [
    "## Imports\n",
    "\n",
    " Import the necessary Python modules to execute the notebook. **`nisystemlink.clients`** provides the predefined models and methods for `TestPlans` and `TestPlan Templates` APIs. **`scrapbook`** is used to run notebooks and record data for integration with the SystemLink Notebook Execution Service."
   ]
  },
  {
   "cell_type": "code",
   "execution_count": null,
   "id": "7a3d2882-de9d-4cd6-99ec-e39305bb8ec1",
   "metadata": {
    "editable": true,
    "slideshow": {
     "slide_type": ""
    },
    "tags": []
   },
   "outputs": [],
   "source": [
    "import scrapbook as sb\n",
    "from typing import List\n",
    "\n",
    "from nisystemlink.clients.test_plan import TestPlanClient\n",
    "from nisystemlink.clients.test_plan.models import (\n",
    "    QueryTestPlansRequest,\n",
    "    QueryTestPlanTemplatesRequest,\n",
    "    UpdateTestPlansRequest,\n",
    "    UpdateTestPlanRequest,\n",
    "    TestPlan,\n",
    "    TestPlanTemplate\n",
    ")"
   ]
  },
  {
   "cell_type": "markdown",
   "id": "71ae4dfe-7695-48e4-9f27-7ade11b8f074",
   "metadata": {
    "editable": true,
    "slideshow": {
     "slide_type": ""
    },
    "tags": []
   },
   "source": [
    "## Parameters\n",
    "\n",
    "- **`test_plan_ids`**: IDs of the test plans to be updated.\n",
    "- **`template_id`**: ID of the test plan template used to update the test plans.\n",
    "\n",
    "Parameters are also listed in the metadata for the **parameters cell**, along with their default values.  \n",
    "The Notebook Execution services use that metadata to pass parameters to this notebook.  \n",
    "To view the metadata:\n",
    "- Select the code cell\n",
    "- Click the **wrench icon** in the right panel.\n",
    "\n",
    "### Sample metadata\n",
    "\n",
    "```json\n",
    "{\n",
    "  \"papermill\": {\n",
    "    \"parameters\": {\n",
    "        \"template_id\": \"\",\n",
    "        \"test_plan_ids\": []\n",
    "    }\n",
    "  },\n",
    "  \"systemlink\": {\n",
    "    \"parameters\": [\n",
    "        {\n",
    "            \"display_name\": \"Test plan IDs\",\n",
    "            \"id\": \"test_plan_ids\",\n",
    "            \"type\": \"string[]\"\n",
    "        },\n",
    "        {\n",
    "            \"display_name\": \"Test plan template ID\",\n",
    "            \"id\": \"template_id\",\n",
    "            \"type\": \"string\"\n",
    "        }\n",
    "    ],\n",
    "    \"version\": 1\n",
    "  },\n",
    "  \"tags\": [\"parameters\"]\n",
    "}\n",
    "```\n",
    "For more information on how parameterization works, review the [papermill documentation](https://papermill.readthedocs.io/en/latest/usage-parameterize.html#how-parameters-work)."
   ]
  },
  {
   "cell_type": "code",
   "execution_count": null,
   "id": "7af836c5-4a7f-46b4-81e6-ecfb72580822",
   "metadata": {
    "editable": true,
    "papermill": {
     "parameters": {
      "template_id": "",
      "test_plan_ids": []
     }
    },
    "slideshow": {
     "slide_type": ""
    },
    "systemlink": {
     "outputs": [
      {
       "display_name": "Total test plans",
       "id": "total_test_plans",
       "type": "scalar"
      },
      {
       "display_name": "Test plans updated",
       "id": "test_plans_updated",
       "type": "string[]"
      },
      {
       "display_name": "Test plans not updated",
       "id": "test_plans_not_updated",
       "type": "string[]"
      }
     ],
     "parameters": [
      {
       "display_name": "Test plan IDs",
       "id": "test_plan_ids",
       "type": "string[]"
      },
      {
       "display_name": "Test plan template ID",
       "id": "template_id",
       "type": "string"
      }
     ],
     "version": 1
    },
    "tags": [
     "parameters"
    ]
   },
   "outputs": [],
   "source": [
    "# Add the test plan IDs as a list of strings here\n",
    "test_plan_ids = []\n",
    "\n",
    "# Add the test plan template ID here\n",
    "template_id = \"\" "
   ]
  },
  {
   "cell_type": "markdown",
   "id": "201c01eb-4a5f-49a6-bf09-23d0aa29f175",
   "metadata": {
    "editable": true,
    "slideshow": {
     "slide_type": ""
    },
    "tags": []
   },
   "source": [
    "## Python clinet\n",
    "\n",
    "Initialize TestPlanClient to access test plan and test plan template APIs."
   ]
  },
  {
   "cell_type": "code",
   "execution_count": null,
   "id": "4156ebb2-ad8a-410b-b2d4-217bdf9570b5",
   "metadata": {
    "editable": true,
    "slideshow": {
     "slide_type": ""
    },
    "tags": []
   },
   "outputs": [],
   "source": [
    "test_plan_client = TestPlanClient()"
   ]
  },
  {
   "cell_type": "markdown",
   "id": "06fb5573-2ee9-436e-9065-2de1c53e57b5",
   "metadata": {
    "editable": true,
    "slideshow": {
     "slide_type": ""
    },
    "tags": []
   },
   "source": [
    "## APIs and algorithms\n",
    "\n",
    "Provides methods to query test plans and test plan templates by their IDs, update test plan details using data from test plan template by invoking the update test plan API."
   ]
  },
  {
   "cell_type": "markdown",
   "id": "62c11282",
   "metadata": {},
   "source": [
    "Retrieve the test plans by its IDs."
   ]
  },
  {
   "cell_type": "code",
   "execution_count": null,
   "id": "b32db852-fb49-4d05-8331-75c7873dfeaf",
   "metadata": {
    "editable": true,
    "slideshow": {
     "slide_type": ""
    },
    "tags": []
   },
   "outputs": [],
   "source": [
    "def query_test_plans(test_plan_ids: List[str]) -> List[TestPlan]:\n",
    "    filter_conditions = ' || '.join(f'id == \"{id}\"' for id in test_plan_ids)\n",
    "\n",
    "    request = QueryTestPlansRequest(\n",
    "        filter=filter_conditions\n",
    "    )\n",
    "\n",
    "    response = test_plan_client.query_test_plans(request)\n",
    "    return response.test_plans"
   ]
  },
  {
   "cell_type": "markdown",
   "id": "c32d94cb",
   "metadata": {},
   "source": [
    "Retrieve the test plan template by its ID."
   ]
  },
  {
   "cell_type": "code",
   "execution_count": null,
   "id": "757e27b8-b5eb-479d-8eb7-2cbfd484066e",
   "metadata": {
    "editable": true,
    "slideshow": {
     "slide_type": ""
    },
    "tags": []
   },
   "outputs": [],
   "source": [
    "def get_test_plan_template(template_id) -> TestPlanTemplate:\n",
    "    request = QueryTestPlanTemplatesRequest(\n",
    "        filter = f'id == \\\"{template_id}\\\"'\n",
    "    )\n",
    "\n",
    "    response = test_plan_client.query_test_plan_templates(request)\n",
    "    \n",
    "    if response.test_plan_templates == []:\n",
    "        print(f\"No template found with ID {template_id}\")\n",
    "        return []\n",
    "\n",
    "    return response.test_plan_templates[0]"
   ]
  },
  {
   "cell_type": "markdown",
   "id": "283c6914",
   "metadata": {},
   "source": [
    "Updates the given test plans and returns the IDs of successfully updated test plans."
   ]
  },
  {
   "cell_type": "code",
   "execution_count": null,
   "id": "2ae1a148-eaae-45fa-91d7-74122249e3bd",
   "metadata": {
    "editable": true,
    "slideshow": {
     "slide_type": ""
    },
    "tags": []
   },
   "outputs": [],
   "source": [
    "def update_test_plans(test_plans) -> List[str]:\n",
    "    request = UpdateTestPlansRequest(\n",
    "         test_plans = [UpdateTestPlanRequest(**test_plan.model_dump()) for test_plan in test_plans],\n",
    "         replace = True\n",
    "     )\n",
    "\n",
    "    test_plans = test_plan_client.update_test_plans(request)\n",
    "\n",
    "    updated_test_plan_ids = [test_plan.id for test_plan in test_plans.updated_test_plans]\n",
    "\n",
    "    return updated_test_plan_ids"
   ]
  },
  {
   "cell_type": "markdown",
   "id": "c1937e46",
   "metadata": {},
   "source": [
    "Update the test plans using the given test plan template, and return the IDs of the updated test plans."
   ]
  },
  {
   "cell_type": "code",
   "execution_count": null,
   "id": "ff09896d-935b-4a37-8f5b-ddee3a74cba9",
   "metadata": {
    "editable": true,
    "slideshow": {
     "slide_type": ""
    },
    "tags": []
   },
   "outputs": [],
   "source": [
    "def update_test_plans_with_template(test_plans, test_plan_template) -> List[str]:\n",
    "    if not test_plans or not test_plan_template:\n",
    "        return []\n",
    "\n",
    "    for test_plan in test_plans:\n",
    "        test_plan.description = test_plan_template.description\n",
    "        test_plan.test_program = test_plan_template.test_program\n",
    "        test_plan.estimated_duration_in_seconds = test_plan_template.estimated_duration_in_seconds\n",
    "        test_plan.system_filter = test_plan_template.system_filter\n",
    "        test_plan.execution_actions = test_plan_template.execution_actions\n",
    "        test_plan.properties = test_plan_template.properties\n",
    "        test_plan.dashboard = test_plan_template.dashboard\n",
    "    \n",
    "    updated_test_plan_ids = update_test_plans(test_plans)\n",
    "    return updated_test_plan_ids"
   ]
  },
  {
   "cell_type": "markdown",
   "id": "4c56562b-06c1-4c44-b64b-c1b95bd73318",
   "metadata": {
    "editable": true,
    "slideshow": {
     "slide_type": ""
    },
    "tags": []
   },
   "source": [
    "## Actions and output\n",
    "\n",
    "Validates the inputs, manages the execution flow, and prints the script output and sends the output to the Execution Results page via Scrapbook."
   ]
  },
  {
   "cell_type": "code",
   "execution_count": null,
   "id": "5026e328-d7f2-4f0c-b117-9fa011afe8ba",
   "metadata": {
    "editable": true,
    "slideshow": {
     "slide_type": ""
    },
    "tags": []
   },
   "outputs": [],
   "source": [
    "updated_test_plan_ids = []\n",
    "failed_test_plan_ids = []\n",
    "\n",
    "if len(test_plan_ids) == 0:\n",
    "    print(\"Required atleast one test plan id\")\n",
    "elif len(test_plan_ids) > 1000:\n",
    "    print(\"Update limit exceeded: Only up to 1000 test plans can be updated at a time.\")\n",
    "    sb.glue(\"Update limit exceeded: Only up to 1000 test plans can be updated at a time.\")\n",
    "elif not template_id:\n",
    "    print(\"No template ID provided\")\n",
    "    sb.glue(\"Failed to fetch template\", \"No template ID provided\")\n",
    "else:    \n",
    "    # Fetch test plan template\n",
    "    test_plan_template = get_test_plan_template(template_id)\n",
    "    \n",
    "    if test_plan_template is []:\n",
    "        sb.glue(\"Failed to fetch template\", template_id)\n",
    "    else:\n",
    "        # Fetch test plans\n",
    "        test_plans = query_test_plans(test_plan_ids)\n",
    "\n",
    "        # Update test plans with template\n",
    "        updated_test_plan_ids = update_test_plans_with_template(test_plans, test_plan_template)\n",
    "        failed_test_plan_ids = list(set(test_plan_ids) - set(updated_test_plan_ids))\n",
    "\n",
    "        # Output\n",
    "        print(\"Total test plans:\", len(test_plan_ids))\n",
    "        print(\"Test plans updated:\", ', '.join(updated_test_plan_ids) if updated_test_plan_ids else \"--\")\n",
    "        print(\"Test plans not updated:\", ', '.join(failed_test_plan_ids) if failed_test_plan_ids else \"--\")\n",
    "        \n",
    "        # Executions page output\n",
    "        sb.glue(\"Total test plans:\", len(test_plan_ids))\n",
    "        sb.glue(\"Test plans updated:\", ', '.join(updated_test_plan_ids) if updated_test_plan_ids else \"--\")\n",
    "        sb.glue(\"Test plans not updated:\", ', '.join(failed_test_plan_ids) if failed_test_plan_ids else \"--\")"
   ]
  },
  {
   "cell_type": "markdown",
   "id": "f92424b3-ae93-4f42-8b61-2e4a458d3e0f",
   "metadata": {},
   "source": [
    "## Next Steps\n",
    "- Publish this notebook to SystemLink by right-clicking it in the JupyterLab File Browser with the interface as **`Test Plan Automations`**."
   ]
  }
 ],
 "metadata": {
  "kernelspec": {
   "display_name": "Python 3 (ipykernel)",
   "language": "python",
   "name": "python3"
  },
  "language_info": {
   "codemirror_mode": {
    "name": "ipython",
    "version": 3
   },
   "file_extension": ".py",
   "mimetype": "text/x-python",
   "name": "python",
   "nbconvert_exporter": "python",
   "pygments_lexer": "ipython3",
   "version": "3.12.10"
  }
 },
 "nbformat": 4,
 "nbformat_minor": 5
}
