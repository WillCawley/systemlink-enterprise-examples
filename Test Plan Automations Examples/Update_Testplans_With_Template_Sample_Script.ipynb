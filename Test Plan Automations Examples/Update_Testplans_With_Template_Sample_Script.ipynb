{
 "cells": [
  {
   "cell_type": "markdown",
   "id": "1f0b285c-da56-47a4-b0c2-a8602fd9ab13",
   "metadata": {
    "editable": true,
    "slideshow": {
     "slide_type": ""
    },
    "tags": []
   },
   "source": [
    "# Sample Script to update testplan using a template\n",
    "\n",
    "## Description \n",
    "- This script automates the process of updating test plans by applying a predefined template.\n",
    "- It takes a list of test plan IDs and a template ID to override the selected test plan properties with the values specified in the template.  \n",
    "\n",
    "## Limitations\n",
    "- Only fields supported for updates by the test plans backend API will be modified. \n",
    "  \n",
    "Note: To customize the automate algorithm, modify the following sections:   \n",
    "- [APIs and Algorithms](#APIs-and-algorithms)\n",
    "- [Actions and Output](#Actions-and-output) "
   ]
  },
  {
   "cell_type": "markdown",
   "id": "4e89fc41-1e43-46f6-848e-6fc101f9696a",
   "metadata": {
    "editable": true,
    "slideshow": {
     "slide_type": ""
    },
    "tags": []
   },
   "source": [
    "## Imports"
   ]
  },
  {
   "cell_type": "code",
   "execution_count": null,
   "id": "7a3d2882-de9d-4cd6-99ec-e39305bb8ec1",
   "metadata": {
    "editable": true,
    "slideshow": {
     "slide_type": ""
    },
    "tags": []
   },
   "outputs": [],
   "source": [
    "import requests\n",
    "import os\n",
    "import scrapbook as sb"
   ]
  },
  {
   "cell_type": "markdown",
   "id": "71ae4dfe-7695-48e4-9f27-7ade11b8f074",
   "metadata": {
    "editable": true,
    "slideshow": {
     "slide_type": ""
    },
    "tags": []
   },
   "source": [
    "## Parameters\n",
    "\n",
    "- **`test_plan_ids`**: IDs of the test plans to be updated.\n",
    "- **`template_id`**: ID of the test plan template used to update the test plans.\n",
    "\n",
    "Parameters are also listed in the metadata for the **parameters cell**, along with their default values.  \n",
    "The Notebook Execution services use that metadata to pass parameters to this notebook.  \n",
    "To view the metadata:\n",
    "- Select the code cell\n",
    "- Click the **wrench icon** in the right panel.\n",
    "\n",
    "### Sample metadata\n",
    "\n",
    "```json\n",
    "{\n",
    "  \"papermill\": {\n",
    "    \"parameters\": {\n",
    "        \"template_id\": \"\",\n",
    "        \"test_plan_ids\": []\n",
    "    }\n",
    "  },\n",
    "  \"systemlink\": {\n",
    "    \"parameters\": [\n",
    "        {\n",
    "            \"display_name\": \"Test plan IDs\",\n",
    "            \"id\": \"test_plan_ids\",\n",
    "            \"type\": \"string[]\"\n",
    "        },\n",
    "        {\n",
    "            \"display_name\": \"Test plan template ID\",\n",
    "            \"id\": \"template_id\",\n",
    "            \"type\": \"string\"\n",
    "        }\n",
    "    ],\n",
    "    \"version\": 1\n",
    "  },\n",
    "  \"tags\": [\"parameters\"]\n",
    "}\n",
    "```\n",
    "For more information on how parameterization works, review the [papermill documentation](https://papermill.readthedocs.io/en/latest/usage-parameterize.html#how-parameters-work)."
   ]
  },
  {
   "cell_type": "code",
   "execution_count": null,
   "id": "7af836c5-4a7f-46b4-81e6-ecfb72580822",
   "metadata": {
    "editable": true,
    "papermill": {
     "parameters": {
      "template_id": "",
      "test_plan_ids": []
     }
    },
    "slideshow": {
     "slide_type": ""
    },
    "systemlink": {
     "outputs": [
      {
       "display_name": "Total test plans",
       "id": "total_test_plans",
       "type": "scalar"
      },
      {
       "display_name": "Test plans updated",
       "id": "test_plans_updated",
       "type": "string[]"
      },
      {
       "display_name": "Test plans not updated",
       "id": "test_plans_not_updated",
       "type": "string[]"
      }
     ],
     "parameters": [
      {
       "display_name": "Test plan IDs",
       "id": "test_plan_ids",
       "type": "string[]"
      },
      {
       "display_name": "Test plan template ID",
       "id": "template_id",
       "type": "string"
      }
     ],
     "version": 1
    },
    "tags": [
     "parameters"
    ]
   },
   "outputs": [],
   "source": [
    "test_plan_ids = [\"1510059\", \"1510157\"] #Add the test plans ids here\n",
    "template_id = \"\" #Add the test plan template id here"
   ]
  },
  {
   "cell_type": "markdown",
   "id": "201c01eb-4a5f-49a6-bf09-23d0aa29f175",
   "metadata": {
    "editable": true,
    "slideshow": {
     "slide_type": ""
    },
    "tags": []
   },
   "source": [
    "## Constants"
   ]
  },
  {
   "cell_type": "code",
   "execution_count": null,
   "id": "4156ebb2-ad8a-410b-b2d4-217bdf9570b5",
   "metadata": {
    "editable": true,
    "slideshow": {
     "slide_type": ""
    },
    "tags": []
   },
   "outputs": [],
   "source": [
    "x_ni_api_key = os.getenv(\"SYSTEMLINK_API_KEY\")\n",
    "sl_uri = os.getenv(\"SYSTEMLINK_HTTP_URI\")\n",
    "\n",
    "headers = {\n",
    "    'Content-Type': 'application/json',\n",
    "    'x-ni-api-key': x_ni_api_key\n",
    "}"
   ]
  },
  {
   "cell_type": "markdown",
   "id": "4cad3746-a50b-483f-b0db-74c7996d3afa",
   "metadata": {
    "editable": true,
    "slideshow": {
     "slide_type": ""
    },
    "tags": []
   },
   "source": [
    "## Models"
   ]
  },
  {
   "cell_type": "code",
   "execution_count": null,
   "id": "dc875227-5085-4fcf-ac78-df2fe628046e",
   "metadata": {
    "editable": true,
    "slideshow": {
     "slide_type": ""
    },
    "tags": []
   },
   "outputs": [],
   "source": [
    "# Base class for TestPlan and TestPlanTemplate\n",
    "\n",
    "class TestPlanBase:\n",
    "    def __init__(self, id, description, test_program, estimated_duration_in_seconds, \n",
    "                 system_filter=None, execution_actions=None, properties=None, dashboard=None):\n",
    "        self.id = id\n",
    "        self.description = description\n",
    "        self.test_program = test_program\n",
    "        self.estimated_duration_in_seconds = estimated_duration_in_seconds\n",
    "        self.system_filter = system_filter\n",
    "        self.execution_actions = execution_actions or []\n",
    "        self.properties = properties or {}\n",
    "        self.dashboard = dashboard or {}\n",
    "\n",
    "    def __repr__(self):\n",
    "        return f'{self.__class__.__name__}(id={self.id}, description={self.description}, test_program={self.test_program}, estimated_duration_in_seconds={self.estimated_duration_in_seconds}, system_filter={self.system_filter}, execution_actions={self.execution_actions}, properties={self.properties}, dashboard={self.dashboard})'"
   ]
  },
  {
   "cell_type": "code",
   "execution_count": null,
   "id": "d5ab73ed-87ed-497d-8b10-f839b7900b78",
   "metadata": {},
   "outputs": [],
   "source": [
    "class TestPlan(TestPlanBase):\n",
    "    def to_dict(self):\n",
    "        \"\"\"Convert the TestPlan object to a dictionary for JSON serialization.\"\"\"\n",
    "        return {\n",
    "            \"id\": self.id,\n",
    "            \"description\": self.description,\n",
    "            \"testProgram\": self.test_program,\n",
    "            \"estimatedDurationInSeconds\": self.estimated_duration_in_seconds,\n",
    "            \"systemFilter\": self.system_filter,\n",
    "            \"executionActions\": self.execution_actions,\n",
    "            \"properties\": self.properties,\n",
    "            \"dashboard\": self.dashboard\n",
    "        }"
   ]
  },
  {
   "cell_type": "code",
   "execution_count": null,
   "id": "4046037f-0941-4dae-8a44-3152d0ad8456",
   "metadata": {
    "editable": true,
    "slideshow": {
     "slide_type": ""
    },
    "tags": []
   },
   "outputs": [],
   "source": [
    "class TestPlanTemplate(TestPlanBase):\n",
    "    pass"
   ]
  },
  {
   "cell_type": "markdown",
   "id": "06fb5573-2ee9-436e-9065-2de1c53e57b5",
   "metadata": {
    "editable": true,
    "slideshow": {
     "slide_type": ""
    },
    "tags": []
   },
   "source": [
    "## APIs and algorithms"
   ]
  },
  {
   "cell_type": "code",
   "execution_count": null,
   "id": "b32db852-fb49-4d05-8331-75c7873dfeaf",
   "metadata": {
    "editable": true,
    "slideshow": {
     "slide_type": ""
    },
    "tags": []
   },
   "outputs": [],
   "source": [
    "def query_test_plans(test_plan_ids):\n",
    "    query_test_plans_url = f'{sl_uri}/niworkorder/v1/query-testplans'\n",
    "    filter_conditions = ' || '.join([f'id == \"{id}\"' for id in test_plan_ids])\n",
    "    request_payload = {\"filter\": filter_conditions}\n",
    "\n",
    "    print(f\"Fetching test plans: {', '.join(test_plan_ids)}\")\n",
    "    response = requests.post(query_test_plans_url, headers=headers, json=request_payload)\n",
    "\n",
    "    if response.status_code != 200:\n",
    "        print(f\"Error fetching test plans {', '.join(test_plan_ids)}: {response.status_code} - {response.text}\")\n",
    "        return None\n",
    "\n",
    "    response_data = response.json()\n",
    "    test_plans_data = response_data.get('testPlans', [])\n",
    "\n",
    "    return [TestPlan(\n",
    "        id=test_plan_data.get('id'),\n",
    "        description=test_plan_data.get('description', ''),\n",
    "        test_program=test_plan_data.get('testProgram', {}),\n",
    "        estimated_duration_in_seconds=test_plan_data.get('estimatedDurationInSeconds', 0),\n",
    "        system_filter=test_plan_data.get('systemFilter', None),\n",
    "        execution_actions=test_plan_data.get('executionActions', []),\n",
    "        properties=test_plan_data.get('properties', {}),\n",
    "        dashboard=test_plan_data.get('dashboard', {})\n",
    "    ) for test_plan_data in test_plans_data]"
   ]
  },
  {
   "cell_type": "code",
   "execution_count": null,
   "id": "757e27b8-b5eb-479d-8eb7-2cbfd484066e",
   "metadata": {
    "editable": true,
    "slideshow": {
     "slide_type": ""
    },
    "tags": []
   },
   "outputs": [],
   "source": [
    "def fetch_test_plan_template(template_id):\n",
    "    template_url = f'{sl_uri}/niworkorder/v1/query-testplan-templates'\n",
    "    request_payload = { \"filter\": f'id == \\\"{template_id}\\\"' }\n",
    "\n",
    "    print(f\"Fetching test plan template: {template_id}\")\n",
    "    response = requests.post(template_url, headers=headers, json=request_payload)\n",
    "\n",
    "    if response.status_code != 200:\n",
    "        print(f\"Error fetching test plan template {template_id}: {response.status_code} - {response.text}\")\n",
    "        return None\n",
    "\n",
    "    response_data = response.json()\n",
    "    templates = response_data.get('testPlanTemplates', [])\n",
    "    \n",
    "    if not templates:\n",
    "        print(f\"No template found with ID {template_id}\")\n",
    "        return None\n",
    "        \n",
    "    template_data = templates[0]\n",
    "    return TestPlanTemplate(\n",
    "        id=template_data.get('id'),\n",
    "        description=template_data.get('description', ''),\n",
    "        test_program=template_data.get('testProgram', {}),\n",
    "        estimated_duration_in_seconds=template_data.get('estimatedDurationInSeconds', 0),\n",
    "        system_filter=template_data.get('systemFilter', None),\n",
    "        execution_actions=template_data.get('executionActions', []),\n",
    "        properties=template_data.get('properties', {}),\n",
    "        dashboard=template_data.get('dashboard', {})\n",
    "    )"
   ]
  },
  {
   "cell_type": "code",
   "execution_count": null,
   "id": "2ae1a148-eaae-45fa-91d7-74122249e3bd",
   "metadata": {
    "editable": true,
    "slideshow": {
     "slide_type": ""
    },
    "tags": []
   },
   "outputs": [],
   "source": [
    "def update_test_plans(test_plans):\n",
    "    update_test_plans_url = f'{sl_uri}/niworkorder/v1/update-testplans'\n",
    "    test_plans_dicts = [test_plan.to_dict() for test_plan in test_plans]\n",
    "    request_payload = {\"testPlans\": test_plans_dicts, \"replace\": True }\n",
    "\n",
    "    response = requests.post(update_test_plans_url, headers=headers, json=request_payload)\n",
    "    test_plans_data = response.json()\n",
    "\n",
    "    if response.status_code != 200:\n",
    "        print(f\"Error updating test plans: {response.status_code} - {response.text}\")\n",
    "\n",
    "    if 'updatedTestPlans' in test_plans_data:\n",
    "        updated_test_plan_ids = [test_plan['id'] for test_plan in test_plans_data['updatedTestPlans']]\n",
    "\n",
    "    return updated_test_plan_ids"
   ]
  },
  {
   "cell_type": "code",
   "execution_count": null,
   "id": "ff09896d-935b-4a37-8f5b-ddee3a74cba9",
   "metadata": {
    "editable": true,
    "slideshow": {
     "slide_type": ""
    },
    "tags": []
   },
   "outputs": [],
   "source": [
    "def update_test_plans_with_template(test_plans, test_plan_template):\n",
    "    if not test_plans or not test_plan_template:\n",
    "        return []\n",
    "\n",
    "    for test_plan in test_plans:\n",
    "        test_plan.description = test_plan_template.description\n",
    "        test_plan.test_program = test_plan_template.test_program\n",
    "        test_plan.estimated_duration_in_seconds = test_plan_template.estimated_duration_in_seconds\n",
    "        test_plan.system_filter = test_plan_template.system_filter\n",
    "        test_plan.execution_actions = test_plan_template.execution_actions\n",
    "        test_plan.properties = test_plan_template.properties\n",
    "        test_plan.dashboard = test_plan_template.dashboard\n",
    "    \n",
    "    updated_test_plan_ids = update_test_plans(test_plans)\n",
    "    return updated_test_plan_ids"
   ]
  },
  {
   "cell_type": "markdown",
   "id": "4c56562b-06c1-4c44-b64b-c1b95bd73318",
   "metadata": {
    "editable": true,
    "slideshow": {
     "slide_type": ""
    },
    "tags": []
   },
   "source": [
    "## Actions and output"
   ]
  },
  {
   "cell_type": "code",
   "execution_count": null,
   "id": "5026e328-d7f2-4f0c-b117-9fa011afe8ba",
   "metadata": {
    "editable": true,
    "slideshow": {
     "slide_type": ""
    },
    "tags": []
   },
   "outputs": [],
   "source": [
    "updated_test_plan_ids = []\n",
    "failed_test_plan_ids = []\n",
    "\n",
    "if not template_id:\n",
    "    print(\"No template ID provided\")\n",
    "    sb.glue(\"Failed to fetch template\", \"No template ID provided\")\n",
    "else:    \n",
    "    # Fetch test plan template\n",
    "    test_plan_template = fetch_test_plan_template(template_id)\n",
    "    \n",
    "    if not test_plan_template:\n",
    "        sb.glue(\"Failed to fetch template\", template_id)\n",
    "    else:\n",
    "        # Fetch test plans\n",
    "        test_plans = query_test_plans(test_plan_ids)\n",
    "        \n",
    "        # Update test plans with template\n",
    "        updated_test_plan_ids = update_test_plans_with_template(test_plans, test_plan_template)\n",
    "        failed_test_plan_ids = list(set(test_plan_ids) - set(updated_test_plan_ids))\n",
    "\n",
    "        # Output\n",
    "        print(\"Total test plans:\", len(test_plan_ids))\n",
    "        print(\"Test plans updated:\", ', '.join(updated_test_plan_ids) if updated_test_plan_ids else \"--\")\n",
    "        print(\"Test plans not updated:\", ', '.join(failed_test_plan_ids) if failed_test_plan_ids else \"--\")\n",
    "        \n",
    "        # Executions page output\n",
    "        sb.glue(\"Total test plans:\", len(test_plan_ids))\n",
    "        sb.glue(\"Test plans updated:\", ', '.join(updated_test_plan_ids) if updated_test_plan_ids else \"--\")\n",
    "        sb.glue(\"Test plans not updated:\", ', '.join(failed_test_plan_ids) if failed_test_plan_ids else \"--\")"
   ]
  },
  {
   "cell_type": "markdown",
   "id": "f92424b3-ae93-4f42-8b61-2e4a458d3e0f",
   "metadata": {},
   "source": [
    "## Next Steps\n",
    "- Publish this notebook to SystemLink by right-clicking it in the JupyterLab File Browser with the interface as Test Plan Automations."
   ]
  }
 ],
 "metadata": {
  "kernelspec": {
   "display_name": "Python 3 (ipykernel)",
   "language": "python",
   "name": "python3"
  },
  "language_info": {
   "codemirror_mode": {
    "name": "ipython",
    "version": 3
   },
   "file_extension": ".py",
   "mimetype": "text/x-python",
   "name": "python",
   "nbconvert_exporter": "python",
   "pygments_lexer": "ipython3",
   "version": "3.12.10"
  }
 },
 "nbformat": 4,
 "nbformat_minor": 5
}
