{
 "cells": [
  {
   "cell_type": "markdown",
   "id": "c367e61d-2a35-4062-8f62-84bd2c880ac3",
   "metadata": {},
   "source": [
    "# Sample script to auto schedule test plans\n",
    "\n",
    "### Description\n",
    "\n",
    "- This script enables users to auto schedule one or more test plans.\n",
    "- It takes a list of test plan IDs and schedules the test plans based on:\n",
    "    1. The system that matches the system filter of the test plan.\n",
    "    2. The system that has the required number of fixtures to run the test plan.\n",
    "    3. The earliest available time slot considering the estimated duration of the test plan within a range of six months from today.\n",
    "- To specify the number of fixtures required to run a test plan, users can add a custom property named `Number of fixtures` specifying the required fixture count. If this property is missing, invalid, or greater than 8, the script defaults the value to 1.\n",
    "\n",
    "Note: To customize the scheduling algorithm, modify the [Actions](#Actions), [APIs](#APIs) and [Algorithm](#Algorithm)"
   ]
  },
  {
   "cell_type": "markdown",
   "id": "10a69ab2-53eb-4353-a0b2-d79dbd9c5f71",
   "metadata": {},
   "source": [
    "## Imports\n",
    "\n",
    "Import the necessary Python modules to execute the notebook. [**`nisystemlink.clients`**](https://github.com/ni/nisystemlink-clients-python) provides the predefined models and methods for `Test Plans`, `System` and `Asset` APIs. **`Scrapbook`** is used to run notebooks and record data for integration with the SystemLink Notebook Execution Service. **`Datetime`** and **`Typing`** are also used."
   ]
  },
  {
   "cell_type": "code",
   "execution_count": null,
   "id": "a083b99e-be54-4051-97b2-ff4ed221c78d",
   "metadata": {
    "editable": true,
    "slideshow": {
     "slide_type": ""
    },
    "tags": []
   },
   "outputs": [],
   "source": [
    "from datetime import datetime, timedelta, timezone\n",
    "from typing import Dict, List, Tuple, Any\n",
    "import scrapbook as sb\n",
    "\n",
    "from nisystemlink.clients.assetmanagement import AssetManagementClient\n",
    "from nisystemlink.clients.assetmanagement.models import (\n",
    "    Asset,\n",
    "    QueryAssetsRequest,\n",
    ")\n",
    "from nisystemlink.clients.systems import SystemsClient\n",
    "from nisystemlink.clients.systems.models import QuerySystemsRequest\n",
    "from nisystemlink.clients.test_plan import TestPlanClient\n",
    "from nisystemlink.clients.test_plan.models import (\n",
    "    QueryTestPlansRequest,\n",
    "    ScheduleTestPlansRequest,\n",
    "    ScheduleTestPlanRequest,\n",
    "    TestPlan,\n",
    ")"
   ]
  },
  {
   "cell_type": "markdown",
   "id": "126aeac9-b6d8-452c-a5a8-8df382716984",
   "metadata": {
    "editable": true,
    "slideshow": {
     "slide_type": ""
    },
    "tags": []
   },
   "source": [
    "## Parameters\n",
    "\n",
    "- **`test_plan_ids`**: IDs of the test plans to be scheduled.\n",
    "\n",
    "Parameters are also listed in the metadata for the **parameters cell**, along with their default values.  \n",
    "The Notebook Execution services use that metadata to pass parameters to this notebook.  \n",
    "To view the metadata:\n",
    "- Select the code cell\n",
    "- Click the **wrench icon** in the right panel.\n",
    "\n",
    "### Sample metadata\n",
    "\n",
    "```json\n",
    "{\n",
    "  \"papermill\": {\n",
    "    \"parameters\": {\n",
    "      \"test_plan_ids\": []\n",
    "    }\n",
    "  },\n",
    "  \"systemlink\": {\n",
    "    \"namespaces\": [],\n",
    "    \"parameters\": [\n",
    "      {\n",
    "        \"display_name\": \"Test Plan IDs\",\n",
    "        \"id\": \"test_plan_ids\",\n",
    "        \"type\": \"string[]\"\n",
    "      }\n",
    "    ],\n",
    "    \"version\": 1\n",
    "  },\n",
    "  \"tags\": [\"parameters\"]\n",
    "}\n",
    "```\n",
    "For more information on how parameterization works, review the [papermill documentation](https://papermill.readthedocs.io/en/latest/usage-parameterize.html#how-parameters-work)."
   ]
  },
  {
   "cell_type": "code",
   "execution_count": null,
   "id": "951db7cf-fe62-439d-bcf8-027f6aa2b19d",
   "metadata": {
    "editable": true,
    "papermill": {
     "parameters": {
      "Testplan IDs": []
     }
    },
    "slideshow": {
     "slide_type": ""
    },
    "systemlink": {
     "interfaces": [
      "ni-files"
     ],
     "outputs": [
      {
       "display_name": "Total test plans",
       "id": "total_test_plans",
       "type": "scalar"
      },
      {
       "display_name": "Test plans scheduled",
       "id": "test_plan_scheduled",
       "type": "string[]"
      },
      {
       "display_name": "Scheduled test plans in schedule page",
       "id": "link_to_scheduled_test_plan_in_schedule_page",
       "type": "string"
      },
      {
       "display_name": "Test plan unscheduled",
       "id": "test_plan_unscheduled",
       "type": "string[]"
      }
     ],
     "parameters": [
      {
       "display_name": "Test Plan IDs",
       "id": "test_plan_ids",
       "type": "string[]"
      }
     ],
     "version": 1
    },
    "tags": [
     "parameters"
    ]
   },
   "outputs": [],
   "source": [
    "# Add the test plan Ids as a list of strings here\n",
    "test_plan_ids = [] "
   ]
  },
  {
   "cell_type": "markdown",
   "id": "bfb1eea7-0262-4924-be39-996e5c06e0e7",
   "metadata": {},
   "source": [
    "## Constants"
   ]
  },
  {
   "cell_type": "code",
   "execution_count": null,
   "id": "c06d84f9-fe3e-42cc-851b-a8475a70ebac",
   "metadata": {
    "editable": true,
    "slideshow": {
     "slide_type": ""
    },
    "tags": []
   },
   "outputs": [],
   "source": [
    "# Max systems to be queried\n",
    "MAX_SYSTEMS_COUNT = 1000 \n",
    "\n",
    "# Max fixtures to be queried\n",
    "MAX_FIXTURES_COUNT = 1000\n",
    "\n",
    "# Max test plans to be queried\n",
    "MAX_TEST_PLANS_COUNT = 10000\n",
    "\n",
    "# Max test plans to be queried per query\n",
    "MAX_TEST_PLANS_COUNT_PER_QUERY = 1000\n",
    "\n",
    "# Default estimated duration of test plan = 1 day\"\n",
    "DEFAULT_TEST_PLAN_DURATION_IN_SECONDS =  24 * 60 * 60\n",
    "\n",
    "_current_time = datetime.now(timezone.utc)\n",
    "_end_time_six_months = _current_time + timedelta(days = 182)\n",
    "\n",
    "start_time = _current_time.strftime(\"%Y-%m-%dT%H:%M:%S.000Z\")\n",
    "due_date_time = _end_time_six_months.strftime(\"%Y-%m-%dT%H:%M:%S.000Z\")"
   ]
  },
  {
   "cell_type": "markdown",
   "id": "5e7eb4e9-34b7-4253-9de1-6b222871e57f",
   "metadata": {
    "editable": true,
    "slideshow": {
     "slide_type": ""
    },
    "tags": []
   },
   "source": [
    "## Python clients\n",
    "\n",
    "Initialize `TestPlanClient`, `SystemsClient` and `AssetManagementClient` to access the respective APIs."
   ]
  },
  {
   "cell_type": "code",
   "execution_count": null,
   "id": "3bbba334-73ac-4518-b2fe-8b54f4fc5e69",
   "metadata": {},
   "outputs": [],
   "source": [
    "system_client = SystemsClient()\n",
    "asset_client = AssetManagementClient()\n",
    "test_plan_client = TestPlanClient()"
   ]
  },
  {
   "cell_type": "markdown",
   "id": "681e361d-705a-4744-8458-75247462d73a",
   "metadata": {},
   "source": [
    "## APIs\n",
    "\n",
    "Provides methods to query test plans, schedule test plans, query systems and query assets."
   ]
  },
  {
   "cell_type": "markdown",
   "id": "88a68d2c",
   "metadata": {},
   "source": [
    "Get testplan details by it's ID. "
   ]
  },
  {
   "cell_type": "code",
   "execution_count": null,
   "id": "13196ec6-e202-4a86-8aae-c864eef35fbd",
   "metadata": {},
   "outputs": [],
   "source": [
    "def get_test_plan(test_plan_to_schedule_id) -> TestPlan:\n",
    "    return test_plan_client.get_test_plan(test_plan_to_schedule_id)"
   ]
  },
  {
   "cell_type": "markdown",
   "id": "9dc9817f",
   "metadata": {},
   "source": [
    "Query systems that match the test plan's system filter."
   ]
  },
  {
   "cell_type": "code",
   "execution_count": null,
   "id": "37559b2b-c965-484a-80b6-89b4462ed6fd",
   "metadata": {},
   "outputs": [],
   "source": [
    "def query_systems(system_filter) -> List[Dict[str, Any]]:\n",
    "    request = QuerySystemsRequest(\n",
    "        take = MAX_SYSTEMS_COUNT,\n",
    "        projection = \"new(id,alias)\",\n",
    "        orderBy = \"lastUpdatedTimeStamp DESC\",\n",
    "        filter = system_filter\n",
    "    )\n",
    "\n",
    "    response = system_client.query_systems(request)\n",
    "    return response.data"
   ]
  },
  {
   "cell_type": "markdown",
   "id": "959267e9",
   "metadata": {},
   "source": [
    "Query fixtures linked to a system based on the system IDs."
   ]
  },
  {
   "cell_type": "code",
   "execution_count": null,
   "id": "a6b307de-404a-4b73-aa15-b071508c1a53",
   "metadata": {},
   "outputs": [],
   "source": [
    "def query_fixtures(systems) -> List[Asset]:\n",
    "    system_ids = \",\".join(f'\"{system[\"id\"]}\"' for system in systems)\n",
    "\n",
    "    request = QueryAssetsRequest(\n",
    "        take = MAX_FIXTURES_COUNT,\n",
    "        filter = (\n",
    "            'AssetType == \"FIXTURE\" && '\n",
    "            f'(locations.Any(location => new[] {{{system_ids}}}.Contains(location.minionId)))'\n",
    "        ),\n",
    "        orderBy = \"LAST_UPDATED_TIMESTAMP\",\n",
    "        descending = True,\n",
    "    )\n",
    "\n",
    "    response = asset_client.query_assets(request)\n",
    "    return response.assets"
   ]
  },
  {
   "cell_type": "markdown",
   "id": "580c0553",
   "metadata": {},
   "source": [
    "Query test plans scheduled to systems across a timeframe (six months from today)."
   ]
  },
  {
   "cell_type": "code",
   "execution_count": null,
   "id": "50470daa-c280-4544-87a8-f104cbe65fc8",
   "metadata": {},
   "outputs": [],
   "source": [
    "def query_test_plans(systems) -> List[TestPlan]:\n",
    "    system_conditions = [f'systemId == \"{system[\"id\"]}\"' for system in systems]\n",
    "    testplans_filter = (\n",
    "        f\"({' or '.join(system_conditions)}) and \"\n",
    "        f\"(plannedStartDateTime <= \\\"{due_date_time}\\\" and \"\n",
    "        f\"estimatedEndDateTime >= \\\"{start_time}\\\")\"\n",
    "    )\n",
    "\n",
    "    all_test_plans = []\n",
    "    continuation_token = None\n",
    "\n",
    "    while len(all_test_plans) < MAX_TEST_PLANS_COUNT:\n",
    "        query_request = QueryTestPlansRequest(\n",
    "            filter = testplans_filter,\n",
    "            take = MAX_TEST_PLANS_COUNT_PER_QUERY,\n",
    "            descending = True,\n",
    "            continuation_token = continuation_token\n",
    "        )\n",
    "\n",
    "        response = test_plan_client.query_test_plans(query_request)\n",
    "\n",
    "        if response.test_plans:\n",
    "            all_test_plans.extend(response.test_plans)\n",
    "            continuation_token = response.continuation_token\n",
    "\n",
    "            if len(response.test_plans) < MAX_TEST_PLANS_COUNT_PER_QUERY or continuation_token is None:\n",
    "                break\n",
    "        else:\n",
    "            break\n",
    "\n",
    "    return all_test_plans[:MAX_TEST_PLANS_COUNT]\n"
   ]
  },
  {
   "cell_type": "markdown",
   "id": "87f10a74",
   "metadata": {},
   "source": [
    "Schedule a test plan on a given system, fixtures and at a specific time slot and returns the schedule status."
   ]
  },
  {
   "cell_type": "code",
   "execution_count": null,
   "id": "2de3f24b",
   "metadata": {},
   "outputs": [],
   "source": [
    "\n",
    "def _is_schedule_successful(schedule_response) -> bool:\n",
    "    return schedule_response.failed_test_plans is None"
   ]
  },
  {
   "cell_type": "code",
   "execution_count": null,
   "id": "1d72b9eb-61ea-4fd8-b858-09182790bc54",
   "metadata": {},
   "outputs": [],
   "source": [
    "def schedule_test_plan(test_plan_id, slot, test_plan, fixture_ids) -> bool:\n",
    "    request = ScheduleTestPlansRequest(\n",
    "        test_plans = [\n",
    "            ScheduleTestPlanRequest(\n",
    "                id = test_plan_id,\n",
    "                planned_start_date_time = slot['planned_start_time'],\n",
    "                estimated_end_date_time = slot['estimated_end_time'],\n",
    "                system_id = slot['system_id'],\n",
    "                fixture_ids = fixture_ids,\n",
    "                estimated_duration_in_seconds = test_plan.estimated_duration_in_seconds\n",
    "            )\n",
    "        ],\n",
    "        replace = True\n",
    "    )\n",
    "\n",
    "    result = test_plan_client.schedule_test_plans(request)\n",
    "    return _is_schedule_successful(result)\n"
   ]
  },
  {
   "cell_type": "markdown",
   "id": "e74a7ab9-107f-4b42-bdfd-acbefe6184f5",
   "metadata": {
    "jp-MarkdownHeadingCollapsed": true
   },
   "source": [
    "## Algorithm\n",
    "\n",
    "The algorithm finds the earliest available time slot to schedule a test plan that meets its resource requirements."
   ]
  },
  {
   "cell_type": "markdown",
   "id": "2a57b6ce",
   "metadata": {},
   "source": [
    "Convert fixtures and systems to dictionary (systemId as key and list of fixture ids as value)."
   ]
  },
  {
   "cell_type": "code",
   "execution_count": null,
   "id": "47201465-c97d-4b61-95cd-009f53cdcc6c",
   "metadata": {},
   "outputs": [],
   "source": [
    "def get_system_fixtures_map(fixtures) -> Dict[str, List[str]]:\n",
    "    system_fixtures_map = {}\n",
    "    for fixture in fixtures:\n",
    "        system_id = fixture.location.minion_id\n",
    "        fixture_id = fixture.id\n",
    "        \n",
    "        if system_id not in system_fixtures_map:\n",
    "            system_fixtures_map[system_id] = []\n",
    "        \n",
    "        system_fixtures_map[system_id].append(fixture_id)\n",
    "    return system_fixtures_map"
   ]
  },
  {
   "cell_type": "markdown",
   "id": "604a6010",
   "metadata": {},
   "source": [
    "Convert test plans and systems to dictionary (systemId as key and test plan's planned start date time and estimated end date time as value)."
   ]
  },
  {
   "cell_type": "code",
   "execution_count": null,
   "id": "57774344-587b-4b3a-b84e-941f0a0e22c8",
   "metadata": {},
   "outputs": [],
   "source": [
    "def organize_test_plans_by_system(test_plans, systems) -> Dict[str, TestPlan]:\n",
    "    system_with_test_plans = {}\n",
    "\n",
    "    # Populate the dictionary with test plans\n",
    "    for test_plan in test_plans:\n",
    "        system_id = test_plan.system_id\n",
    "        test_plan_info = {\n",
    "            'planned_start_time': test_plan.planned_start_date_time,\n",
    "            'estimated_end_time': test_plan.estimated_end_date_time\n",
    "        }\n",
    "        if system_id not in system_with_test_plans:\n",
    "            system_with_test_plans[system_id] = []\n",
    "        system_with_test_plans[system_id].append(test_plan_info)\n",
    "\n",
    "    # Ensure all systems are represented in the dictionary\n",
    "    for system in systems:\n",
    "        system_id = system['id']\n",
    "        if system_id not in system_with_test_plans:\n",
    "            system_with_test_plans[system_id] = []\n",
    "\n",
    "    return system_with_test_plans"
   ]
  },
  {
   "cell_type": "markdown",
   "id": "041f1aa8",
   "metadata": {},
   "source": [
    "Sort test plans in the system by their estimated end times."
   ]
  },
  {
   "cell_type": "code",
   "execution_count": null,
   "id": "a1eeccb6-25a9-426e-abea-b9125e9b788c",
   "metadata": {},
   "outputs": [],
   "source": [
    "def sort_and_filter_system_test_plans(\n",
    "    system_with_test_plans: Dict[str, List[Dict[str, str]]]\n",
    ") -> Dict[str, List[Dict[str, str]]]:\n",
    "\n",
    "    current_date_time = datetime.fromisoformat(start_time.replace(\"Z\", \"+00:00\"))\n",
    "    \n",
    "    for system_id, test_plans in system_with_test_plans.items():\n",
    "        test_plans.sort(key = lambda test_plan: datetime.fromisoformat(test_plan['estimated_end_time'].replace(\"Z\", \"+00:00\")))\n",
    "\n",
    "        test_plans = [\n",
    "            test_plan for test_plan in test_plans \n",
    "            if datetime.fromisoformat(test_plan['estimated_end_time'].replace(\"Z\", \"+00:00\")) > current_date_time\n",
    "        ]\n",
    "\n",
    "        system_with_test_plans[system_id] = test_plans\n",
    "\n",
    "    return system_with_test_plans"
   ]
  },
  {
   "cell_type": "markdown",
   "id": "aa4180fc",
   "metadata": {},
   "source": [
    "Find available time slots to schedule the test plan on all matching systems, and return the earliest one."
   ]
  },
  {
   "cell_type": "code",
   "execution_count": null,
   "id": "6f025ee0-5fb7-4f8c-aeb1-992a56b96610",
   "metadata": {},
   "outputs": [],
   "source": [
    "def find_available_slots(\n",
    "    system_with_test_plans: Dict[str, List[Dict[str, str]]],\n",
    "    test_plan: TestPlan\n",
    ") -> List[Dict[str, str]]:\n",
    "\n",
    "    current_date_time = datetime.fromisoformat(start_time.replace(\"Z\", \"+00:00\"))\n",
    "    \n",
    "    test_plan_duration = timedelta(\n",
    "        seconds = test_plan.estimated_duration_in_seconds\n",
    "            if test_plan.estimated_duration_in_seconds != None else DEFAULT_TEST_PLAN_DURATION_IN_SECONDS\n",
    "    )\n",
    "\n",
    "    available_slots = []\n",
    "\n",
    "    for system_id, occupied_slots in system_with_test_plans.items():\n",
    "        occupied_slots.sort(\n",
    "            key = lambda occupied_slot: datetime.fromisoformat(occupied_slot['planned_start_time'].replace(\"Z\", \"+00:00\"))\n",
    "        )\n",
    "        \n",
    "        last_busy_end_time = current_date_time\n",
    "\n",
    "        for slot in occupied_slots:\n",
    "            start_time = datetime.fromisoformat(slot['planned_start_time'].replace(\"Z\", \"+00:00\"))\n",
    "            end_time = datetime.fromisoformat(slot['estimated_end_time'].replace(\"Z\", \"+00:00\"))\n",
    "\n",
    "            if start_time > last_busy_end_time + test_plan_duration:\n",
    "                available_slots.append({\n",
    "                    'system_id': system_id,\n",
    "                    'planned_start_time': last_busy_end_time.isoformat(),\n",
    "                    'estimated_end_time': (last_busy_end_time + test_plan_duration).isoformat()\n",
    "                })\n",
    "                break\n",
    "\n",
    "            last_busy_end_time = max(last_busy_end_time, end_time)\n",
    "\n",
    "        if last_busy_end_time + test_plan_duration < datetime.fromisoformat(due_date_time.replace(\"Z\", \"+00:00\")):\n",
    "            available_slots.append({\n",
    "                'system_id': system_id,\n",
    "                'planned_start_time': last_busy_end_time.isoformat(),\n",
    "                'estimated_end_time': (last_busy_end_time + test_plan_duration).isoformat()\n",
    "            })\n",
    "\n",
    "    available_slots.sort(key = lambda available_slot: datetime.fromisoformat(available_slot['planned_start_time']))\n",
    "\n",
    "    return available_slots"
   ]
  },
  {
   "cell_type": "markdown",
   "id": "561de3fa",
   "metadata": {},
   "source": [
    "Get earliest available timeslots based on fixture availability in a system."
   ]
  },
  {
   "cell_type": "code",
   "execution_count": null,
   "id": "ad1596f4-cd63-401d-8e90-bc74861f6c5c",
   "metadata": {},
   "outputs": [],
   "source": [
    "def get_available_slot(\n",
    "    available_slots,\n",
    "    system_fixtures_map,\n",
    "    number_of_fixtures_to_select\n",
    ") -> Dict[str, Any]:\n",
    "\n",
    "    if(number_of_fixtures_to_select == 0):\n",
    "        return available_slots[0] if available_slots else {}\n",
    "    \n",
    "    for slot in available_slots:\n",
    "        system_id = slot['system_id']\n",
    "        fixture_ids = system_fixtures_map.get(system_id, [])\n",
    "        \n",
    "        if len(fixture_ids) >= number_of_fixtures_to_select:\n",
    "            selected_fixture_ids = fixture_ids[:number_of_fixtures_to_select]\n",
    "            slot['fixture_ids'] = selected_fixture_ids\n",
    "            return slot\n",
    "    \n",
    "    return available_slots[0] if available_slots else {}"
   ]
  },
  {
   "cell_type": "markdown",
   "id": "61d70d3f",
   "metadata": {},
   "source": [
    "Take a list of time intervals (as tuples of datetime objects) and merge any overlapping intervals into non-overlapping ones."
   ]
  },
  {
   "cell_type": "code",
   "execution_count": null,
   "id": "94905bf0-4bc7-4899-9135-6878ae42f158",
   "metadata": {},
   "outputs": [],
   "source": [
    "def merge_intervals(\n",
    "    intervals: List[Tuple[datetime, datetime]]\n",
    ") -> List[Tuple[datetime, datetime]]:\n",
    "\n",
    "    if not intervals:\n",
    "        return []\n",
    "\n",
    "    intervals.sort()\n",
    "    merged = [intervals[0]]\n",
    "\n",
    "    for current_start, current_end in intervals[1:]:\n",
    "        last_start, last_end = merged[-1]\n",
    "        if current_start <= last_end:\n",
    "            merged[-1] = (last_start, max(last_end, current_end))\n",
    "        else:\n",
    "            merged.append((current_start, current_end))\n",
    "    \n",
    "    return merged"
   ]
  },
  {
   "cell_type": "markdown",
   "id": "8e15b1f2",
   "metadata": {},
   "source": [
    "Identify available time slots within a specified range by excluding the given busy intervals."
   ]
  },
  {
   "cell_type": "code",
   "execution_count": null,
   "id": "c5a80306-8bbd-4ad0-90c4-01eb24e8b502",
   "metadata": {},
   "outputs": [],
   "source": [
    "def invert_intervals(\n",
    "    intervals: List[Tuple[datetime, datetime]],\n",
    "    start: datetime, end: datetime\n",
    ") -> List[Tuple[datetime, datetime]]:\n",
    "\n",
    "    available = []\n",
    "    prev_end = start\n",
    "\n",
    "    for busy_start, busy_end in intervals:\n",
    "        if prev_end < busy_start:\n",
    "            available.append((prev_end, busy_start))\n",
    "        prev_end = max(prev_end, busy_end)\n",
    "\n",
    "    if prev_end < end:\n",
    "        available.append((prev_end, end))\n",
    "\n",
    "    return available"
   ]
  },
  {
   "cell_type": "markdown",
   "id": "610736c3",
   "metadata": {},
   "source": [
    "Find the earliest time slot within a given time range where a test plan can reserve a system and fixtures without conflicting with other test plan schedules."
   ]
  },
  {
   "cell_type": "code",
   "execution_count": null,
   "id": "5f3ccbff-bac0-42a2-860d-23fa5e601c9f",
   "metadata": {},
   "outputs": [],
   "source": [
    "def find_earliest_common_slot(\n",
    "    fixtures: List[str],\n",
    "    system: str,\n",
    "    test_plans,\n",
    "    number_of_fixtures_to_schedule: int,\n",
    "    duration: timedelta,\n",
    "    search_start: datetime,\n",
    "    search_end: datetime\n",
    ") -> Dict[str, Any]:\n",
    "\n",
    "    system_busy = []\n",
    "    fixture_busy = {slave: [] for slave in fixtures}\n",
    "\n",
    "    for test_plan in test_plans:\n",
    "        planned_start_time = (\n",
    "           test_plan.planned_start_date_time\n",
    "            if isinstance(test_plan.planned_start_date_time, datetime)\n",
    "           else datetime.fromisoformat(test_plan.planned_start_date_time)\n",
    "        )\n",
    "        \n",
    "        estimated_end_time = (\n",
    "            test_plan.estimated_end_date_time\n",
    "            if isinstance(test_plan.estimated_end_date_time, datetime)\n",
    "            else datetime.fromisoformat(test_plan.estimated_end_date_time)\n",
    "        )\n",
    "\n",
    "        if test_plan.system_id == system and len(test_plan.fixture_ids) == 0:\n",
    "            system_busy.append((planned_start_time, estimated_end_time))\n",
    "        for fixture in test_plan.fixture_ids:\n",
    "            if fixture in fixture_busy:\n",
    "                fixture_busy[fixture].append((planned_start_time, estimated_end_time))\n",
    "\n",
    "    system_busy = merge_intervals(system_busy)\n",
    "\n",
    "    for fixture in fixtures:\n",
    "        combined = fixture_busy[fixture] + system_busy\n",
    "        fixture_busy[fixture] = merge_intervals(combined)\n",
    "\n",
    "    fixture_available = {}\n",
    "    for fixture in fixtures:\n",
    "        fixture_available[fixture] = invert_intervals(\n",
    "            fixture_busy[fixture],\n",
    "            search_start,\n",
    "            search_end\n",
    "        )\n",
    "\n",
    "    time_points = set()\n",
    "    for intervals in fixture_available.values():\n",
    "        for start, end in intervals:\n",
    "            time_points.add(start)\n",
    "            time_points.add(end)\n",
    "    time_points = sorted(time_points)\n",
    "\n",
    "    for time_point in time_points:\n",
    "        available_fixtures = []\n",
    "        for fixture, intervals in fixture_available.items():\n",
    "            for interval_start, interval_end in intervals:\n",
    "                if interval_start <= time_point and interval_end >= time_point + duration:\n",
    "                    available_fixtures.append(fixture)\n",
    "                    break\n",
    "\n",
    "        if len(available_fixtures) >= number_of_fixtures_to_schedule:\n",
    "            return {\n",
    "                'planned_start_time': time_point,\n",
    "                'estimated_end_time': time_point + duration,\n",
    "                'fixture_ids': available_fixtures[:number_of_fixtures_to_schedule]\n",
    "            }\n",
    "\n",
    "    return {}"
   ]
  },
  {
   "cell_type": "markdown",
   "id": "86831f43",
   "metadata": {},
   "source": [
    "Find the earliest available time slot to schedule a test plan across all matching systems and their fixtures."
   ]
  },
  {
   "cell_type": "code",
   "execution_count": null,
   "id": "0eb7b1c4-5f13-43e5-a84e-cf4f24254cc4",
   "metadata": {},
   "outputs": [],
   "source": [
    "def find_best_system(\n",
    "    system_fixture_map: Dict[str, List[str]],\n",
    "    test_plan, \n",
    "    number_of_fixtures_to_schedule: int,\n",
    "    duration: timedelta,\n",
    "    search_start: datetime,\n",
    "    search_end: datetime\n",
    ") -> Dict[str, Any]:\n",
    "\n",
    "    best_option = None\n",
    "\n",
    "    for system, fixtures in system_fixture_map.items():\n",
    "        result = find_earliest_common_slot(\n",
    "            fixtures,\n",
    "            system,\n",
    "            test_plan,\n",
    "            number_of_fixtures_to_schedule,\n",
    "            duration,\n",
    "            search_start,\n",
    "            search_end\n",
    "        )\n",
    "\n",
    "        if result != {}:\n",
    "            if not best_option or result['planned_start_time'] < best_option['planned_start_time']:\n",
    "                best_option = {\n",
    "                    'system_id': system,\n",
    "                    'planned_start_time': result['planned_start_time'],\n",
    "                    'estimated_end_time': result['estimated_end_time'],\n",
    "                    'fixture_ids': result['fixture_ids']\n",
    "                }\n",
    "\n",
    "    return best_option"
   ]
  },
  {
   "cell_type": "markdown",
   "id": "fc032990-5255-4e29-b336-9fccec601541",
   "metadata": {},
   "source": [
    "## Actions\n",
    "\n",
    "Validates the input and manages the execution flow."
   ]
  },
  {
   "cell_type": "markdown",
   "id": "a3dd707b-6c6b-455e-be78-bfcf74077c04",
   "metadata": {},
   "source": [
    "Validate the number of test plan IDs."
   ]
  },
  {
   "cell_type": "code",
   "execution_count": null,
   "id": "01c52e3b",
   "metadata": {},
   "outputs": [],
   "source": [
    "def validate_test_plan_ids(test_plan_ids) -> bool:\n",
    "    if len(test_plan_ids) == 0:\n",
    "        print(\"Required at least one test plan id.\")\n",
    "        return False\n",
    "    if len(test_plan_ids) > 1000:\n",
    "        print(\"Update limit exceeded: Only up to 1000 test plans can be updated at a time.\")\n",
    "        sb.glue(\"Update limit exceeded: Only up to 1000 test plans can be updated at a time.\")\n",
    "        return False\n",
    "    return True"
   ]
  },
  {
   "cell_type": "markdown",
   "id": "384bf952-5a36-4970-ab5f-f2131093db68",
   "metadata": {},
   "source": [
    "Get the number of fixtures to schedule."
   ]
  },
  {
   "cell_type": "code",
   "execution_count": null,
   "id": "cbdcc451",
   "metadata": {},
   "outputs": [],
   "source": [
    "def get_number_of_fixtures(test_plan) -> int:\n",
    "    _number_of_fixtures = test_plan.properties.get(\"Number of fixtures\")\n",
    "\n",
    "    return int(_number_of_fixtures) if (\n",
    "        isinstance(_number_of_fixtures, str)\n",
    "        and _number_of_fixtures.isdigit()\n",
    "        and (1 <= int(_number_of_fixtures) <= 8)\n",
    "    ) else 1"
   ]
  },
  {
   "cell_type": "markdown",
   "id": "dec2f2d3-e884-454d-bf98-2e44c773dd81",
   "metadata": {},
   "source": [
    "Fetch systems and fixtures for the given test plan."
   ]
  },
  {
   "cell_type": "code",
   "execution_count": null,
   "id": "bd267894",
   "metadata": {},
   "outputs": [],
   "source": [
    "def fetch_systems_and_fixtures(test_plan) -> tuple:\n",
    "    systems = query_systems(test_plan.system_filter)\n",
    "    if systems is None:\n",
    "        return None, None\n",
    "    fixtures = query_fixtures(systems)\n",
    "    system_fixtures_map = get_system_fixtures_map(fixtures)\n",
    "    return systems, system_fixtures_map"
   ]
  },
  {
   "cell_type": "markdown",
   "id": "1fd5d83f-637d-458d-a370-2684557bfaf2",
   "metadata": {},
   "source": [
    "Find the system with fixture availability based on the earliest available timeslot and then schedule the test plan."
   ]
  },
  {
   "cell_type": "code",
   "execution_count": null,
   "id": "823b6d94",
   "metadata": {},
   "outputs": [],
   "source": [
    "def find_and_schedule(\n",
    "    test_plan_to_schedule,\n",
    "    systems,\n",
    "    system_fixtures_map,\n",
    "    test_plans,\n",
    "    number_of_fixtures_to_schedule,\n",
    "    duration,\n",
    "    start_date_time\n",
    ") -> bool:\n",
    "\n",
    "    # Try to find the best system.\n",
    "    best_system = find_best_system(\n",
    "        system_fixtures_map,\n",
    "        test_plans,\n",
    "        number_of_fixtures_to_schedule,\n",
    "        duration,\n",
    "        start_date_time,\n",
    "        datetime.fromisoformat(due_date_time.replace(\"Z\", \"+00:00\"))\n",
    "    )\n",
    "\n",
    "    if best_system:\n",
    "        fixtureIds = best_system['fixture_ids']\n",
    "        best_system['planned_start_time'] = best_system['planned_start_time'].isoformat()\n",
    "        best_system['estimated_end_time'] = best_system['estimated_end_time'].isoformat()\n",
    "        return schedule_test_plan(test_plan_to_schedule.id, best_system, test_plan_to_schedule, fixtureIds)\n",
    "\n",
    "    # Fallback to available slot scheduling, as the required specifications are not met.\n",
    "    system_with_test_plans = organize_test_plans_by_system(test_plans, systems)\n",
    "    sorted_system_test_plans = sort_and_filter_system_test_plans(system_with_test_plans)\n",
    "    available_slots_in_systems = find_available_slots(sorted_system_test_plans, test_plan_to_schedule)\n",
    "    earliest_available_slot = get_available_slot(available_slots_in_systems, system_fixtures_map, number_of_fixtures_to_schedule)\n",
    "    \n",
    "    fixtureIds = system_fixtures_map.get(earliest_available_slot['system_id'], [])[:number_of_fixtures_to_schedule]\n",
    "    return schedule_test_plan(test_plan_to_schedule.id, earliest_available_slot, test_plan_to_schedule, fixtureIds)"
   ]
  },
  {
   "cell_type": "markdown",
   "id": "207acd30-584b-410d-8385-616ca94ee518",
   "metadata": {},
   "source": [
    "Process a single test plan from the list."
   ]
  },
  {
   "cell_type": "code",
   "execution_count": null,
   "id": "c99a0190",
   "metadata": {},
   "outputs": [],
   "source": [
    "scheduled_test_plans = []\n",
    "scheduled_test_plan_names = []\n",
    "unscheduled_test_plans = []\n",
    "\n",
    "def process_test_plan(test_plan_id, test_plan_ids) -> None:\n",
    "    test_plan_to_schedule = get_test_plan(test_plan_id)\n",
    "    if test_plan_to_schedule is None:\n",
    "        return False\n",
    "    \n",
    "    number_of_fixtures_to_schedule = get_number_of_fixtures(test_plan_to_schedule)\n",
    "    \n",
    "    # If the number of fixtures is invalid, skip scheduling\n",
    "    if number_of_fixtures_to_schedule > 8:\n",
    "        unscheduled_test_plans.append(test_plan_id)\n",
    "        return False\n",
    "\n",
    "    # Fetch systems and fixtures\n",
    "    systems, system_fixtures_map = fetch_systems_and_fixtures(test_plan_to_schedule)\n",
    "    if systems is None:\n",
    "        unscheduled_test_plans.append(test_plan_id)\n",
    "        return False\n",
    "\n",
    "    # Query existing test plans\n",
    "    test_plans = query_test_plans(systems)\n",
    "    if test_plans is None:\n",
    "        unscheduled_test_plans.append(test_plan_id)\n",
    "        return False\n",
    "\n",
    "    # Scheduling logic\n",
    "    duration = timedelta(\n",
    "        seconds = test_plan_to_schedule.estimated_duration_in_seconds or DEFAULT_TEST_PLAN_DURATION_IN_SECONDS\n",
    "    )\n",
    "        \n",
    "    start_date_time = datetime.fromisoformat(start_time.replace(\"Z\", \"+00:00\"))\n",
    "\n",
    "    is_scheduled = find_and_schedule(\n",
    "        test_plan_to_schedule,\n",
    "        systems,\n",
    "        system_fixtures_map,\n",
    "        test_plans,\n",
    "        number_of_fixtures_to_schedule,\n",
    "        duration,\n",
    "        start_date_time\n",
    "    )\n",
    "    \n",
    "    if is_scheduled:\n",
    "        scheduled_test_plan_names.append(test_plan_to_schedule.name)\n",
    "        scheduled_test_plans.append(test_plan_id)\n",
    "    else:\n",
    "        unscheduled_test_plans.append(test_plan_id)\n",
    "\n",
    "    return True\n"
   ]
  },
  {
   "cell_type": "markdown",
   "id": "d288a7aa-e860-4efe-a2ca-a8cfe11422b0",
   "metadata": {},
   "source": [
    "Schedule test plans from the provided list of test plan IDs."
   ]
  },
  {
   "cell_type": "code",
   "execution_count": null,
   "id": "978f1527-1940-44da-8d87-d21971dfde2b",
   "metadata": {
    "editable": true,
    "slideshow": {
     "slide_type": ""
    },
    "tags": []
   },
   "outputs": [],
   "source": [
    "def schedule_test_plans(test_plan_ids) -> None:\n",
    "    if not validate_test_plan_ids(test_plan_ids):\n",
    "        return\n",
    "    \n",
    "    # Process each test plan\n",
    "    for test_plan_id in test_plan_ids:\n",
    "        process_test_plan(test_plan_id, test_plan_ids)"
   ]
  },
  {
   "cell_type": "code",
   "execution_count": null,
   "id": "1637d6f9",
   "metadata": {},
   "outputs": [],
   "source": [
    "schedule_test_plans(test_plan_ids)"
   ]
  },
  {
   "cell_type": "markdown",
   "id": "b9b59007-11e1-41de-a276-8d9f7089cdec",
   "metadata": {},
   "source": [
    "## Executions page output\n",
    "\n",
    "Send the output to the Execution Results page via Scrapbook."
   ]
  },
  {
   "cell_type": "code",
   "execution_count": null,
   "id": "60e2e737-b60d-43f9-8d4e-88325c836de4",
   "metadata": {},
   "outputs": [],
   "source": [
    "test_plan_names = ', '.join(scheduled_test_plan_names)\n",
    "sb.glue(\"Total test plans\", len(test_plan_ids))\n",
    "sb.glue(\"Scheduled test plans\", test_plan_names)\n",
    "\n",
    "if len(unscheduled_test_plans) == 0:\n",
    "    sb.glue(\"Unscheduled test plans\",  \"-\")\n",
    "else:\n",
    "    sb.glue(\"Unscheduled test plans\",  unscheduled_test_plans)"
   ]
  },
  {
   "cell_type": "markdown",
   "id": "4d76a2a8-5c2a-451d-a6c9-d4f8a7e3850c",
   "metadata": {},
   "source": [
    "## Output\n",
    "\n",
    "Print the script output."
   ]
  },
  {
   "cell_type": "code",
   "execution_count": null,
   "id": "28fd4e5c-b46f-4de8-99bb-0224181e15b5",
   "metadata": {},
   "outputs": [],
   "source": [
    "print(\"Total test plans:\", len(test_plan_ids))\n",
    "print(\"Scheduled test plans:\", test_plan_names)\n",
    "if len(unscheduled_test_plans) == 0:\n",
    "    print(\"Unscheduled test plans: -\")\n",
    "else:\n",
    "    print(\"Unscheduled test plans:\", unscheduled_test_plans)"
   ]
  },
  {
   "cell_type": "markdown",
   "id": "52fcbae2-90ed-43c0-b253-9763efb8ae42",
   "metadata": {},
   "source": [
    "## Next Steps\n",
    "Publish this notebook to SystemLink by right-clicking it in the JupyterLab File Browser with the interface as **`Test Plan Scheduler`**."
   ]
  }
 ],
 "metadata": {
  "kernelspec": {
   "display_name": "Python 3",
   "language": "python",
   "name": "python3"
  },
  "language_info": {
   "codemirror_mode": {
    "name": "ipython",
    "version": 3
   },
   "file_extension": ".py",
   "mimetype": "text/x-python",
   "name": "python",
   "nbconvert_exporter": "python",
   "pygments_lexer": "ipython3",
   "version": "3.11.0"
  }
 },
 "nbformat": 4,
 "nbformat_minor": 5
}
