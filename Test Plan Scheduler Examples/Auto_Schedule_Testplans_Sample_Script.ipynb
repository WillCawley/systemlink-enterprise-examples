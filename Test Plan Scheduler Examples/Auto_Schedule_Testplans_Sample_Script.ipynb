{
 "cells": [
  {
   "cell_type": "markdown",
   "id": "c367e61d-2a35-4062-8f62-84bd2c880ac3",
   "metadata": {},
   "source": [
    "# Sample script to automate testplans schedule\n",
    "\n",
    "### Description\n",
    "\n",
    "- This script enables users to automate the scheduling of test plans.\n",
    "- It takes a list of test plan IDs and schedule them to the earliest available systems, considering availability up to the end of the current year.\n",
    "- To schedule test plans across multiple fixtures, users can add a custom property named `Number of fixtures` to each test plan, specifying how many fixtures should be used for its execution. If this property is not provided or is greater than 8, it will default to 1.\n",
    "\n",
    "Note: To customize the scheduling algorithm, modify the [Actions](#Actions) and the [APIs and algorithms](#APIs-and-algorithms)"
   ]
  },
  {
   "cell_type": "markdown",
   "id": "10a69ab2-53eb-4353-a0b2-d79dbd9c5f71",
   "metadata": {},
   "source": [
    "## Imports"
   ]
  },
  {
   "cell_type": "code",
   "execution_count": null,
   "id": "a083b99e-be54-4051-97b2-ff4ed221c78d",
   "metadata": {
    "editable": true,
    "slideshow": {
     "slide_type": ""
    },
    "tags": []
   },
   "outputs": [],
   "source": [
    "import requests\n",
    "import os\n",
    "from datetime import datetime, timedelta, timezone\n",
    "from typing import Dict, List, Tuple\n",
    "import scrapbook as sb\n",
    "\n",
    "from nisystemlink.clients.systems import SystemsClient\n",
    "from nisystemlink.clients.systems.models import QuerySystemsRequest\n",
    "from nisystemlink.clients.assetmanagement import AssetManagementClient\n",
    "from nisystemlink.clients.assetmanagement.models import QueryAssetsRequest\n",
    "from nisystemlink.clients.test_plan import TestPlanClient\n",
    "from nisystemlink.clients.test_plan.models import QueryTestPlansRequest, ScheduleTestPlansRequest, ScheduleTestPlanRequest, OrderBy, TestPlan"
   ]
  },
  {
   "cell_type": "markdown",
   "id": "126aeac9-b6d8-452c-a5a8-8df382716984",
   "metadata": {
    "editable": true,
    "slideshow": {
     "slide_type": ""
    },
    "tags": []
   },
   "source": [
    "## Parameters\n",
    "\n",
    "- **`test_plan_ids`**: IDs of the test plans to be scheduled.\n",
    "\n",
    "Parameters are also listed in the metadata for the **parameters cell**, along with their default values.  \n",
    "The Notebook Execution services use that metadata to pass parameters to this notebook.  \n",
    "To view the metadata:\n",
    "- Select the code cell\n",
    "- Click the **wrench icon** in the right panel.\n",
    "\n",
    "### Sample metadata\n",
    "\n",
    "```json\n",
    "{\n",
    "  \"papermill\": {\n",
    "    \"parameters\": {\n",
    "      \"result_ids\": []\n",
    "    }\n",
    "  },\n",
    "  \"systemlink\": {\n",
    "    \"namespaces\": [],\n",
    "    \"parameters\": [\n",
    "      {\n",
    "        \"display_name\": \"Test Plan IDs\",\n",
    "        \"id\": \"test_plan_ids\",\n",
    "        \"type\": \"string[]\"\n",
    "      }\n",
    "    ],\n",
    "    \"version\": 2\n",
    "  },\n",
    "  \"tags\": [\"parameters\"]\n",
    "}\n",
    "```\n",
    "For more information on how parameterization works, review the [papermill documentation](https://papermill.readthedocs.io/en/latest/usage-parameterize.html#how-parameters-work)."
   ]
  },
  {
   "cell_type": "code",
   "execution_count": null,
   "id": "951db7cf-fe62-439d-bcf8-027f6aa2b19d",
   "metadata": {
    "editable": true,
    "papermill": {
     "parameters": {
      "Testplan IDs": []
     }
    },
    "slideshow": {
     "slide_type": ""
    },
    "systemlink": {
     "interfaces": [
      "ni-files"
     ],
     "outputs": [
      {
       "display_name": "Total test plans",
       "id": "total_test_plans",
       "type": "scalar"
      },
      {
       "display_name": "Test plans scheduled",
       "id": "test_plan_scheduled",
       "type": "string[]"
      },
      {
       "display_name": "Scheduled test plans in schedule page",
       "id": "link_to_scheduled_test_plan_in_schedule_page",
       "type": "string"
      },
      {
       "display_name": "Test plan unscheduled",
       "id": "test_plan_unscheduled",
       "type": "string[]"
      }
     ],
     "parameters": [
      {
       "display_name": "Test Plan IDs",
       "id": "test_plan_ids",
       "type": "string[]"
      }
     ],
     "version": 1
    },
    "tags": [
     "parameters"
    ]
   },
   "outputs": [],
   "source": [
    "test_plan_ids = [\"\"] #Add the test plan ids as list of strings here"
   ]
  },
  {
   "cell_type": "markdown",
   "id": "bfb1eea7-0262-4924-be39-996e5c06e0e7",
   "metadata": {},
   "source": [
    "## Constants and objects"
   ]
  },
  {
   "cell_type": "code",
   "execution_count": null,
   "id": "c06d84f9-fe3e-42cc-851b-a8475a70ebac",
   "metadata": {
    "editable": true,
    "slideshow": {
     "slide_type": ""
    },
    "tags": []
   },
   "outputs": [],
   "source": [
    "MAX_SYSTEMS_COUNT = 1000 # Max systems to be queried\n",
    "MAX_FIXTURES_COUNT = 1000 # Max fixtures to be queried\n",
    "MAX_TESTPLANS_COUNT = 10000 # Max testplans to be queried\n",
    "MAX_TESTPLANS_COUNT_PER_QUERY = 1000 # Max testplans to be queried per query\n",
    "DEFAULT_TESTPLAN_DURATION = 86400 # Default estimated duration as 1 day\n",
    "\n",
    "current_time = datetime.now(timezone.utc)\n",
    "start_time = current_time.strftime(\"%Y-%m-%dT%H:%M:%S.000Z\")\n",
    "end_of_year = datetime(current_time.year, 12, 31, 23, 59, 59, tzinfo=timezone.utc)\n",
    "due_date_time = end_of_year.strftime(\"%Y-%m-%dT%H:%M:%S.000Z\")\n",
    "\n",
    "system_client = SystemsClient()\n",
    "asset_client = AssetManagementClient()\n",
    "test_plan_client = TestPlanClient()"
   ]
  },
  {
   "cell_type": "markdown",
   "id": "681e361d-705a-4744-8458-75247462d73a",
   "metadata": {},
   "source": [
    "## APIs and algorithms"
   ]
  },
  {
   "cell_type": "code",
   "execution_count": null,
   "id": "13196ec6-e202-4a86-8aae-c864eef35fbd",
   "metadata": {},
   "outputs": [],
   "source": [
    "# get testplan to schedule\n",
    "\n",
    "def fetch_testplan_and_system_filter(testplan_to_schedule_id):\n",
    "    testplan_data = test_plan_client.get_test_plan(testplan_to_schedule_id)\n",
    "    if testplan_data is not None:\n",
    "        number_of_fixtures = testplan_data.properties[\"Number of fixtures\"]\n",
    "        try:\n",
    "            number_of_fixtures = int(number_of_fixtures)\n",
    "        except (ValueError, TypeError):\n",
    "            number_of_fixtures = 1\n",
    "\n",
    "        return testplan_data, number_of_fixtures\n",
    "    else:\n",
    "        return None, None"
   ]
  },
  {
   "cell_type": "code",
   "execution_count": null,
   "id": "37559b2b-c965-484a-80b6-89b4462ed6fd",
   "metadata": {},
   "outputs": [],
   "source": [
    "# get systems\n",
    "\n",
    "def query_systems(system_filter):\n",
    "    system_request_payload = QuerySystemsRequest(\n",
    "        take = MAX_SYSTEMS_COUNT,\n",
    "        projection = \"new(id,alias)\",\n",
    "        orderBy = \"lastUpdatedTimeStamp DESC\",\n",
    "        filter = system_filter\n",
    "    )\n",
    "\n",
    "    query_response = system_client.query_systems(system_request_payload)\n",
    "    return query_response.data"
   ]
  },
  {
   "cell_type": "code",
   "execution_count": null,
   "id": "a6b307de-404a-4b73-aa15-b071508c1a53",
   "metadata": {},
   "outputs": [],
   "source": [
    "# get fixtures\n",
    "\n",
    "def query_fixtures(systems):\n",
    "    ids_string  = \",\".join(f'\"{item[\"id\"]}\"' for item in systems)\n",
    "\n",
    "    fixture_request_payload = QueryAssetsRequest(\n",
    "        take = MAX_FIXTURES_COUNT,\n",
    "        filter = f'AssetType == \"FIXTURE\" && (locations.Any(l => new[]{{{ids_string}}}.Contains(l.minionId)))',\n",
    "        orderBy = \"LAST_UPDATED_TIMESTAMP\",\n",
    "        descending = True\n",
    "    )\n",
    "\n",
    "    query_response = asset_client.query_assets(fixture_request_payload)\n",
    "\n",
    "    return query_response.assets"
   ]
  },
  {
   "cell_type": "code",
   "execution_count": null,
   "id": "47201465-c97d-4b61-95cd-009f53cdcc6c",
   "metadata": {},
   "outputs": [],
   "source": [
    "# convert fixtures and systems to dict (systemId as key and list of fixture ids as value)\n",
    "\n",
    "def get_system_fixtures_map(fixtures):\n",
    "    result = {}\n",
    "    for item in fixtures:\n",
    "        obj_key = item.location.minion_id\n",
    "        item_id = item.id\n",
    "        \n",
    "        if obj_key not in result:\n",
    "            result[obj_key] = []\n",
    "        \n",
    "        result[obj_key].append(item_id)\n",
    "    return result"
   ]
  },
  {
   "cell_type": "code",
   "execution_count": null,
   "id": "50470daa-c280-4544-87a8-f104cbe65fc8",
   "metadata": {},
   "outputs": [],
   "source": [
    "# get testplans for systems\n",
    "\n",
    "def query_testplans(systems):\n",
    "    n = len(systems)\n",
    "    condition_strings = [f'systemId == \"{system[\"id\"]}\"' for system in systems]\n",
    "    \n",
    "    final_string = ' or '.join(condition_strings)\n",
    "    testplans_filter_string = f'({final_string}) and (plannedStartDateTime <= \"{due_date_time}\" and estimatedEndDateTime >= \"{start_time}\")'\n",
    "\n",
    "    testplans = []\n",
    "    continuation_token = None\n",
    "\n",
    "    while len(testplans) < MAX_TESTPLANS_COUNT:\n",
    "        query_testplans_payload = QueryTestPlansRequest(\n",
    "            filter = testplans_filter_string,\n",
    "            take = MAX_TESTPLANS_COUNT_PER_QUERY,\n",
    "            descending = True,\n",
    "        )\n",
    "\n",
    "        if continuation_token:\n",
    "            query_testplans_payload.continuation_token = continuation_token\n",
    "\n",
    "        testplans_data = test_plan_client.query_test_plans(query_request=query_testplans_payload)\n",
    "        continuation_token = testplans_data.continuation_token\n",
    "\n",
    "        if testplans_data.test_plans is not None: \n",
    "            testplans.extend(testplans_data.test_plans)\n",
    "\n",
    "            if len(testplans_data.test_plans) < MAX_TESTPLANS_COUNT_PER_QUERY or continuation_token is None:\n",
    "                break\n",
    "        else:\n",
    "            break\n",
    "\n",
    "    return testplans[:MAX_TESTPLANS_COUNT]"
   ]
  },
  {
   "cell_type": "code",
   "execution_count": null,
   "id": "57774344-587b-4b3a-b84e-941f0a0e22c8",
   "metadata": {},
   "outputs": [],
   "source": [
    "#convert testplans and systems to dict (systemId as key and testplan's planned start and end time as value )\n",
    "\n",
    "def organize_testplans_by_system(testplans, systems):\n",
    "    system_with_testplans = {}\n",
    "\n",
    "    # Populate the dictionary with test plans\n",
    "    for testplan in testplans:\n",
    "        system_id = testplan.system_id\n",
    "        testplan_info = {\n",
    "            'start_time': testplan.planned_start_date_time,\n",
    "            'end_time': testplan.estimated_end_date_time\n",
    "        }\n",
    "        if system_id not in system_with_testplans:\n",
    "            system_with_testplans[system_id] = []\n",
    "        system_with_testplans[system_id].append(testplan_info)\n",
    "\n",
    "    # Ensure all systems are represented in the dictionary\n",
    "    for system in systems:\n",
    "        system_id = system['id']\n",
    "        if system_id not in system_with_testplans:\n",
    "            system_with_testplans[system_id] = []\n",
    "\n",
    "    return system_with_testplans"
   ]
  },
  {
   "cell_type": "code",
   "execution_count": null,
   "id": "a1eeccb6-25a9-426e-abea-b9125e9b788c",
   "metadata": {},
   "outputs": [],
   "source": [
    "#sort testplans in system based on testplan start time\n",
    "\n",
    "def sort_and_filter_system_testplans(system_testplans: Dict[str, List[Dict[str, str]]]) -> Dict[str, List[Dict[str, str]]]:\n",
    "    for system_id, testplans in system_testplans.items():\n",
    "        testplans.sort(key=lambda x: datetime.fromisoformat(x['end_time'].replace(\"Z\", \"+00:00\")))\n",
    "\n",
    "        testplans = [testplan for testplan in testplans if datetime.fromisoformat(testplan['end_time'].replace(\"Z\", \"+00:00\")) > current_time]\n",
    "\n",
    "        system_with_testplans[system_id] = testplans\n",
    "\n",
    "    return system_with_testplans"
   ]
  },
  {
   "cell_type": "code",
   "execution_count": null,
   "id": "6f025ee0-5fb7-4f8c-aeb1-992a56b96610",
   "metadata": {},
   "outputs": [],
   "source": [
    "#find available time slots in all systems to schedule, sort it based on time and return the first slot.\n",
    "\n",
    "def find_available_slots(system_with_testplans: Dict[str, List[Dict[str, str]]], test_plan: TestPlan) -> List[Dict[str, str]]:\n",
    "    duration = timedelta(seconds=test_plan.estimated_duration_in_seconds if test_plan.estimated_duration_in_seconds != None else 86000)\n",
    "\n",
    "    available_slots = []\n",
    "\n",
    "    for system_id, occupied_slots in system_with_testplans.items():\n",
    "        occupied_slots.sort(key=lambda x: datetime.fromisoformat(x['start_time'].replace(\"Z\", \"+00:00\")))\n",
    "        \n",
    "        last_end_time = current_time\n",
    "\n",
    "        for slot in occupied_slots:\n",
    "            start_time = datetime.fromisoformat(slot['start_time'].replace(\"Z\", \"+00:00\"))\n",
    "            end_time = datetime.fromisoformat(slot['end_time'].replace(\"Z\", \"+00:00\"))\n",
    "\n",
    "            if start_time > last_end_time + duration:\n",
    "                available_slots.append({\n",
    "                    'system_id': system_id,\n",
    "                    'planned_start_time': last_end_time.isoformat(),\n",
    "                    'estimated_end_time': (last_end_time + duration).isoformat()\n",
    "                })\n",
    "                break\n",
    "\n",
    "            last_end_time = max(last_end_time, end_time)\n",
    "\n",
    "        if last_end_time + duration < datetime.fromisoformat(due_date_time.replace(\"Z\", \"+00:00\")):\n",
    "            available_slots.append({\n",
    "                'system_id': system_id,\n",
    "                'planned_start_time': last_end_time.isoformat(),\n",
    "                'estimated_end_time': (last_end_time + duration).isoformat()\n",
    "            })\n",
    "\n",
    "    available_slots.sort(key=lambda x: datetime.fromisoformat(x['planned_start_time']))\n",
    "\n",
    "    return available_slots"
   ]
  },
  {
   "cell_type": "code",
   "execution_count": null,
   "id": "1d72b9eb-61ea-4fd8-b858-09182790bc54",
   "metadata": {},
   "outputs": [],
   "source": [
    "#schedule api call\n",
    "\n",
    "def schedule_testplan(testplan_to_schedule_id, available_slot, testplan_to_schedule, fixtureIds):\n",
    "    schedule_test_plans_request = ScheduleTestPlansRequest(\n",
    "        test_plans=[\n",
    "            ScheduleTestPlanRequest(\n",
    "                id = testplan_to_schedule_id,\n",
    "                planned_start_date_time= available_slot['planned_start_time'],\n",
    "                estimated_end_date_time= available_slot['estimated_end_time'],\n",
    "                system_id = available_slot['system_id'],\n",
    "                fixture_ids = available_slot['fixtures'],\n",
    "                estimated_duration_in_seconds = testplan_to_schedule.estimated_duration_in_seconds\n",
    "            )\n",
    "        ],\n",
    "        replace = True\n",
    "    )\n",
    "\n",
    "    schedule_test_plans_response = test_plan_client.schedule_test_plans(schedule_test_plans_request)\n",
    "\n",
    "    if schedule_test_plans_response.failed_test_plans is None:\n",
    "        return True\n",
    "    else:\n",
    "        return False"
   ]
  },
  {
   "cell_type": "code",
   "execution_count": null,
   "id": "ad1596f4-cd63-401d-8e90-bc74861f6c5c",
   "metadata": {},
   "outputs": [],
   "source": [
    "# get available slot considering system and fixtures\n",
    "\n",
    "def get_available_slot(available_slots, system_fixtures_map, number_of_fixtures_to_select):\n",
    "    if(number_of_fixtures_to_select == 0):\n",
    "        return available_slots[0] if available_slots else None\n",
    "    \n",
    "    for slot in available_slots:\n",
    "        system_id = slot['system_id']\n",
    "        fixture_ids = system_fixtures_map.get(system_id, [])\n",
    "        \n",
    "        if len(fixture_ids) >= number_of_fixtures_to_select:\n",
    "            selected_fixture_ids = fixture_ids[:number_of_fixtures_to_select]\n",
    "            slot['fixture_ids'] = selected_fixture_ids\n",
    "            return slot\n",
    "    \n",
    "    return available_slots[0] if available_slots else None"
   ]
  },
  {
   "cell_type": "code",
   "execution_count": null,
   "id": "94905bf0-4bc7-4899-9135-6878ae42f158",
   "metadata": {},
   "outputs": [],
   "source": [
    "def merge_intervals(intervals: List[Tuple[datetime, datetime]]) -> List[Tuple[datetime, datetime]]:\n",
    "    if not intervals:\n",
    "        return []\n",
    "    intervals.sort()\n",
    "    merged = [intervals[0]]\n",
    "    for current_start, current_end in intervals[1:]:\n",
    "        last_start, last_end = merged[-1]\n",
    "        if current_start <= last_end:\n",
    "            merged[-1] = (last_start, max(last_end, current_end))\n",
    "        else:\n",
    "            merged.append((current_start, current_end))\n",
    "    return merged"
   ]
  },
  {
   "cell_type": "code",
   "execution_count": null,
   "id": "c5a80306-8bbd-4ad0-90c4-01eb24e8b502",
   "metadata": {},
   "outputs": [],
   "source": [
    "def invert_intervals(intervals: List[Tuple[datetime, datetime]], start: datetime, end: datetime) -> List[Tuple[datetime, datetime]]:\n",
    "    available = []\n",
    "    prev_end = start\n",
    "    for busy_start, busy_end in intervals:\n",
    "        if prev_end < busy_start:\n",
    "            available.append((prev_end, busy_start))\n",
    "        prev_end = max(prev_end, busy_end)\n",
    "    if prev_end < end:\n",
    "        available.append((prev_end, end))\n",
    "    return available"
   ]
  },
  {
   "cell_type": "code",
   "execution_count": null,
   "id": "5f3ccbff-bac0-42a2-860d-23fa5e601c9f",
   "metadata": {},
   "outputs": [],
   "source": [
    "def find_earliest_common_slot(fixtures: List[str], system: str, testPlans, \n",
    "                               n_required: int, duration: timedelta,\n",
    "                               search_start: datetime, search_end: datetime):\n",
    "    system_busy = []\n",
    "    fixture_busy = {slave: [] for slave in fixtures}\n",
    "\n",
    "    for testPlan in testPlans:\n",
    "        planned_start_time = testPlan.planned_start_date_time if isinstance(testPlan.planned_start_date_time, datetime) else datetime.fromisoformat(testPlan.planned_start_date_time)\n",
    "        estimated_end_time = testPlan.estimated_end_date_time if isinstance(testPlan.estimated_end_date_time, datetime) else datetime.fromisoformat(testPlan.estimated_end_date_time)\n",
    "\n",
    "        if testPlan.system_id == system and len(testPlan.fixture_ids) == 0:\n",
    "            system_busy.append((planned_start_time, estimated_end_time))\n",
    "        for fixture in testPlan.fixture_ids:\n",
    "            if fixture in fixture_busy:\n",
    "                fixture_busy[fixture].append((planned_start_time, estimated_end_time))\n",
    "\n",
    "    system_busy = merge_intervals(system_busy)\n",
    "\n",
    "    for fixture in fixtures:\n",
    "        combined = fixture_busy[fixture] + system_busy\n",
    "        fixture_busy[fixture] = merge_intervals(combined)\n",
    "\n",
    "    fixture_available = {}\n",
    "    for fixture in fixtures:\n",
    "        fixture_available[fixture] = invert_intervals(fixture_busy[fixture], search_start, search_end)\n",
    "\n",
    "    time_points = set()\n",
    "    for intervals in fixture_available.values():\n",
    "        for start, end in intervals:\n",
    "            time_points.add(start)\n",
    "            time_points.add(end)\n",
    "    time_points = sorted(time_points)\n",
    "\n",
    "    for time_point in time_points:\n",
    "        available_fixtures = []\n",
    "        for fixture, intervals in fixture_available.items():\n",
    "            for interval_start, interval_end in intervals:\n",
    "                if interval_start <= time_point and interval_end >= time_point + duration:\n",
    "                    available_fixtures.append(fixture)\n",
    "                    break\n",
    "\n",
    "        if len(available_fixtures) >= n_required:\n",
    "            return {\n",
    "                'planned_start_time': time_point,\n",
    "                'estimated_end_time': time_point + duration,\n",
    "                'fixtures': available_fixtures[:n_required]\n",
    "            }\n",
    "    return None"
   ]
  },
  {
   "cell_type": "code",
   "execution_count": null,
   "id": "0eb7b1c4-5f13-43e5-a84e-cf4f24254cc4",
   "metadata": {},
   "outputs": [],
   "source": [
    "def find_best_system(system_fixture_map: Dict[str, List[str]], testPlans, \n",
    "                     n_required: int, duration: timedelta,\n",
    "                     search_start: datetime, search_end: datetime):\n",
    "    best_option = None\n",
    "\n",
    "    for system, fixtures in system_fixture_map.items():\n",
    "        result = find_earliest_common_slot(fixtures, system, testPlans, n_required, duration, search_start, search_end)\n",
    "        if result:\n",
    "            if not best_option or result['planned_start_time'] < best_option['planned_start_time']:\n",
    "                best_option = {\n",
    "                    'system_id': system,\n",
    "                    'planned_start_time': result['planned_start_time'],\n",
    "                    'estimated_end_time': result['estimated_end_time'],\n",
    "                    'fixtures': result['fixtures']\n",
    "                }\n",
    "\n",
    "    return best_option"
   ]
  },
  {
   "cell_type": "markdown",
   "id": "fc032990-5255-4e29-b336-9fccec601541",
   "metadata": {},
   "source": [
    "## Actions"
   ]
  },
  {
   "cell_type": "code",
   "execution_count": null,
   "id": "978f1527-1940-44da-8d87-d21971dfde2b",
   "metadata": {
    "editable": true,
    "slideshow": {
     "slide_type": ""
    },
    "tags": []
   },
   "outputs": [],
   "source": [
    "scheduled_testplans = []\n",
    "scheduled_testplan_names = []\n",
    "unScheduled_testplans = []\n",
    "\n",
    "# Loop through each testplan_id in the list\n",
    "for testplan_to_schedule_id in test_plan_ids:\n",
    "    # Fetch the test plan and system filter\n",
    "    testplan_to_schedule, number_of_fixtures_to_schedule = fetch_testplan_and_system_filter(testplan_to_schedule_id)\n",
    "\n",
    "    if testplan_to_schedule is not None:\n",
    "        # Get systems based on the system filter\n",
    "        systems = query_systems(testplan_to_schedule.system_filter)\n",
    "\n",
    "        if systems is not None:\n",
    "            # Get Fixtures based on systems\n",
    "            fixtures = query_fixtures(systems)\n",
    "            system_fixtures_map = get_system_fixtures_map(fixtures)\n",
    "\n",
    "            # Get testplans for the identified systems\n",
    "            testplans = query_testplans(systems)\n",
    "\n",
    "            is_scheduled = False\n",
    "\n",
    "            duration = timedelta(seconds=testplan_to_schedule.estimated_duration_in_seconds if testplan_to_schedule.estimated_duration_in_seconds != None else 86000)\n",
    "            best_system = find_best_system(system_fixtures_map, testplans, number_of_fixtures_to_schedule, duration, current_time, datetime.fromisoformat(due_date_time.replace(\"Z\", \"+00:00\")))\n",
    "\n",
    "            if(best_system):\n",
    "                fixtureIds = best_system['fixtures']\n",
    "\n",
    "                best_system['planned_start_time'] =  best_system['planned_start_time'].isoformat()\n",
    "                best_system['estimated_end_time'] = best_system['estimated_end_time'].isoformat()\n",
    "                \n",
    "                is_scheduled = schedule_testplan(testplan_to_schedule_id, best_system, testplan_to_schedule, fixtureIds)\n",
    "            else:\n",
    "                # Organize the test plans by system (systemId as key and testplans as value)\n",
    "                system_with_testplans = organize_testplans_by_system(testplans, systems)\n",
    "    \n",
    "                # Sort test plans in each system based on start time\n",
    "                sorted_system_testplans = sort_and_filter_system_testplans(system_with_testplans)\n",
    "    \n",
    "                # Find available slots for scheduling the test plan\n",
    "                available_slots = find_available_slots(sorted_system_testplans, testplan_to_schedule)\n",
    "    \n",
    "                available_slot = get_available_slot(available_slots, system_fixtures_map, number_of_fixtures_to_schedule)\n",
    "                fixtureIds = system_fixtures_map.get(available_slot['system_id'], [])\n",
    "                if(len(fixtureIds) > number_of_fixtures_to_schedule):\n",
    "                    fixtureIds = fixtureIds[:number_of_fixtures_to_schedule]\n",
    "\n",
    "                is_scheduled = schedule_testplan(testplan_to_schedule_id, available_slot, testplan_to_schedule, fixtureIds)\n",
    "\n",
    "            if testplan_to_schedule is not None and is_scheduled:\n",
    "                scheduled_testplan_names.append(testplan_to_schedule.name)\n",
    "                scheduled_testplans.append(testplan_to_schedule_id)\n",
    "            else:\n",
    "                unScheduled_testplans.append(testplan_to_schedule_id)\n",
    "        else:\n",
    "            unScheduled_testplans.append(testplan_to_schedule_id)\n",
    "\n",
    "    else:\n",
    "        unScheduled_testplans.append(testplan_to_schedule_id)     "
   ]
  },
  {
   "cell_type": "markdown",
   "id": "b9b59007-11e1-41de-a276-8d9f7089cdec",
   "metadata": {},
   "source": [
    "## Executions page output"
   ]
  },
  {
   "cell_type": "code",
   "execution_count": null,
   "id": "60e2e737-b60d-43f9-8d4e-88325c836de4",
   "metadata": {},
   "outputs": [
    {
     "data": {
      "application/scrapbook.scrap.json+json": {
       "data": 2,
       "encoder": "json",
       "name": "Total test plans",
       "version": 1
      }
     },
     "metadata": {
      "scrapbook": {
       "data": true,
       "display": false,
       "name": "Total test plans"
      }
     },
     "output_type": "display_data"
    },
    {
     "data": {
      "application/scrapbook.scrap.text+json": {
       "data": "Test for scripts, Test Plan 1",
       "encoder": "text",
       "name": "Scheduled test plans",
       "version": 1
      }
     },
     "metadata": {
      "scrapbook": {
       "data": true,
       "display": false,
       "name": "Scheduled test plans"
      }
     },
     "output_type": "display_data"
    },
    {
     "data": {
      "application/scrapbook.scrap.text+json": {
       "data": "-",
       "encoder": "text",
       "name": "Unscheduled test plans",
       "version": 1
      }
     },
     "metadata": {
      "scrapbook": {
       "data": true,
       "display": false,
       "name": "Unscheduled test plans"
      }
     },
     "output_type": "display_data"
    }
   ],
   "source": [
    "test_plan_names = ', '.join(scheduled_testplan_names)\n",
    "sb.glue(\"Total test plans\", len(test_plan_ids))\n",
    "sb.glue(\"Scheduled test plans\", test_plan_names)\n",
    "\n",
    "if len(unScheduled_testplans) == 0:\n",
    "    sb.glue(\"Unscheduled test plans\",  \"-\")\n",
    "else:\n",
    "    sb.glue(\"Unscheduled test plans\",  unScheduled_testplans)"
   ]
  },
  {
   "cell_type": "markdown",
   "id": "4d76a2a8-5c2a-451d-a6c9-d4f8a7e3850c",
   "metadata": {},
   "source": [
    "## Output"
   ]
  },
  {
   "cell_type": "code",
   "execution_count": null,
   "id": "28fd4e5c-b46f-4de8-99bb-0224181e15b5",
   "metadata": {},
   "outputs": [],
   "source": [
    "print(\"Total test plans:\", len(test_plan_ids))\n",
    "print(\"Scheduled test plans:\", test_plan_names)\n",
    "if len(unScheduled_testplans) == 0:\n",
    "    print(\"Unscheduled test plans: -\")\n",
    "else:\n",
    "    print(\"Unscheduled test plans:\", unScheduled_testplans)"
   ]
  },
  {
   "cell_type": "markdown",
   "id": "52fcbae2-90ed-43c0-b253-9763efb8ae42",
   "metadata": {},
   "source": [
    "## Next Steps\n",
    "- Publish this notebook to SystemLink by right-clicking it in the JupyterLab File Browser with the interface as Test Plan Scheduler."
   ]
  }
 ],
 "metadata": {
  "kernelspec": {
   "display_name": "Python 3 (ipykernel)",
   "language": "python",
   "name": "python3"
  },
  "language_info": {
   "codemirror_mode": {
    "name": "ipython",
    "version": 3
   },
   "file_extension": ".py",
   "mimetype": "text/x-python",
   "name": "python",
   "nbconvert_exporter": "python",
   "pygments_lexer": "ipython3",
   "version": "3.12.10"
  }
 },
 "nbformat": 4,
 "nbformat_minor": 5
}
